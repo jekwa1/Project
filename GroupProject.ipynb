{
  "nbformat": 4,
  "nbformat_minor": 0,
  "metadata": {
    "colab": {
      "provenance": [],
      "include_colab_link": true
    },
    "kernelspec": {
      "name": "python3",
      "display_name": "Python 3"
    },
    "language_info": {
      "name": "python"
    }
  },
  "cells": [
    {
      "cell_type": "markdown",
      "metadata": {
        "id": "view-in-github",
        "colab_type": "text"
      },
      "source": [
        "<a href=\"https://colab.research.google.com/github/jekwa1/Project/blob/main/GroupProject.ipynb\" target=\"_parent\"><img src=\"https://colab.research.google.com/assets/colab-badge.svg\" alt=\"Open In Colab\"/></a>"
      ]
    },
    {
      "cell_type": "code",
      "source": [
        "!pip install numerizer"
      ],
      "metadata": {
        "id": "-TY3HVdR5x_b",
        "outputId": "6845e0fd-46bc-459f-d8c3-b70cec94a7e4",
        "colab": {
          "base_uri": "https://localhost:8080/"
        }
      },
      "execution_count": 1,
      "outputs": [
        {
          "output_type": "stream",
          "name": "stdout",
          "text": [
            "Collecting numerizer\n",
            "  Downloading numerizer-0.2.3.tar.gz (7.0 kB)\n",
            "  Preparing metadata (setup.py) ... \u001b[?25l\u001b[?25hdone\n",
            "Building wheels for collected packages: numerizer\n",
            "  Building wheel for numerizer (setup.py) ... \u001b[?25l\u001b[?25hdone\n",
            "  Created wheel for numerizer: filename=numerizer-0.2.3-py2.py3-none-any.whl size=7282 sha256=af2fbe49e5decd43aac1c0145b46cf815be52cc49b89ac60c072ee68f2a8d12b\n",
            "  Stored in directory: /root/.cache/pip/wheels/a6/f5/41/061ebb390bcaff59039c490836f12f0ee8d29ca5d3e69f829c\n",
            "Successfully built numerizer\n",
            "Installing collected packages: numerizer\n",
            "Successfully installed numerizer-0.2.3\n"
          ]
        }
      ]
    },
    {
      "cell_type": "code",
      "source": [
        "#Libraries\n",
        "import os\n",
        "import pandas as pd\n",
        "import matplotlib.pyplot as plt\n",
        "import numpy as np\n",
        "import seaborn as sns\n",
        "import requests\n",
        "from numerizer import numerize\n",
        "import scipy\n",
        "import scipy.stats as stats\n",
        "from sklearn.linear_model import LinearRegression"
      ],
      "metadata": {
        "id": "ZeB8QayBrRBg"
      },
      "execution_count": 2,
      "outputs": []
    },
    {
      "cell_type": "code",
      "source": [
        "#mount to drive\n",
        "from google.colab import drive\n",
        "drive.mount('/content/drive')"
      ],
      "metadata": {
        "id": "kTaAQvdVURfv",
        "outputId": "30ecfaa7-0eca-4940-930d-ca772b3f2f42",
        "colab": {
          "base_uri": "https://localhost:8080/"
        }
      },
      "execution_count": 3,
      "outputs": [
        {
          "output_type": "stream",
          "name": "stdout",
          "text": [
            "Mounted at /content/drive\n"
          ]
        }
      ]
    },
    {
      "cell_type": "code",
      "source": [
        "#load cases_malaysia csv file using Pandas\n",
        "folder = '/content/drive/My Drive/HIAProject302/'\n",
        "filename_1 = folder+'cases_malaysia.csv'\n",
        "case_my= pd.read_csv(filename_1)\n",
        "\n",
        "#load deaths_malaysia csv file using Pandas\n",
        "folder = '/content/drive/My Drive/HIAProject302/'\n",
        "filename_2 = folder+'deaths_malaysia.csv'\n",
        "death_my= pd.read_csv(filename_2)\n",
        "\n",
        "#load icu csv file using Pandas\n",
        "folder = '/content/drive/My Drive/HIAProject302/'\n",
        "filename_3 = folder+'icu.csv'\n",
        "icu_my= pd.read_csv(filename_3)\n"
      ],
      "metadata": {
        "id": "j4DB8V6SUWOv"
      },
      "execution_count": 5,
      "outputs": []
    },
    {
      "cell_type": "markdown",
      "source": [
        "Verifying Datasets (case_malaysia.csv), (death_malaysia.csv) and (icu.csv)"
      ],
      "metadata": {
        "id": "3nVDVVn8MKI4"
      }
    },
    {
      "cell_type": "code",
      "source": [
        "#Check null in case_my\n",
        "case_my.isnull().sum()\n",
        "\n",
        "#Check null in death_my\n",
        "death_my.isnull().sum()\n",
        "\n",
        "#Check null in icu_my\n",
        "icu_my.isnull().sum()"
      ],
      "metadata": {
        "id": "eIh6jR7JwT7B",
        "outputId": "03b44501-9aab-4397-a5bc-67ff76994bc5",
        "colab": {
          "base_uri": "https://localhost:8080/"
        }
      },
      "execution_count": 6,
      "outputs": [
        {
          "output_type": "execute_result",
          "data": {
            "text/plain": [
              "date              0\n",
              "state             0\n",
              "beds_icu          0\n",
              "beds_icu_rep      0\n",
              "beds_icu_total    0\n",
              "beds_icu_covid    0\n",
              "vent              0\n",
              "vent_port         0\n",
              "icu_covid         0\n",
              "icu_pui           0\n",
              "icu_noncovid      0\n",
              "vent_covid        0\n",
              "vent_pui          0\n",
              "vent_noncovid     0\n",
              "vent_used         0\n",
              "vent_port_used    0\n",
              "dtype: int64"
            ]
          },
          "metadata": {},
          "execution_count": 6
        }
      ]
    },
    {
      "cell_type": "markdown",
      "source": [
        "Selecting required variables from each datasets"
      ],
      "metadata": {
        "id": "tQTreyDFMlOs"
      }
    },
    {
      "cell_type": "code",
      "source": [
        "#Select interested column in case_my\n",
        "case_my_new =case_my.loc[:,['date','cases_new','cases_0_4', 'cases_5_11', 'cases_12_17',\n",
        "'cases_18_29', 'cases_30_39', 'cases_40_49', 'cases_50_59',\n",
        "'cases_60_69', 'cases_70_79', 'cases_80']]\n",
        "print(case_my_new)\n",
        "print(case_my_new.columns)\n",
        "#check null value\n",
        "case_my_new.isnull().sum()\n",
        "case_my_new.info()\n"
      ],
      "metadata": {
        "id": "XWikw_K7wlfh",
        "outputId": "a2f6242d-c61c-4d16-8a1d-18083669c1e1",
        "colab": {
          "base_uri": "https://localhost:8080/"
        }
      },
      "execution_count": 7,
      "outputs": [
        {
          "output_type": "stream",
          "name": "stdout",
          "text": [
            "            date  cases_new  cases_0_4  cases_5_11  cases_12_17  cases_18_29  \\\n",
            "0     2020-01-25          4          0           0            0            0   \n",
            "1     2020-01-26          0          0           0            0            0   \n",
            "2     2020-01-27          0          0           0            0            0   \n",
            "3     2020-01-28          0          0           0            0            0   \n",
            "4     2020-01-29          3          1           0            0            0   \n",
            "...          ...        ...        ...         ...          ...          ...   \n",
            "1375  2023-10-31        240          3           5           10           64   \n",
            "1376  2023-11-01        289          4           4            9           70   \n",
            "1377  2023-11-02        305          8           3           18           70   \n",
            "1378  2023-11-03        283          8          10           13           73   \n",
            "1379  2023-11-04        262          4           8            6           62   \n",
            "\n",
            "      cases_30_39  cases_40_49  cases_50_59  cases_60_69  cases_70_79  \\\n",
            "0               0            1            0            0            0   \n",
            "1               0            0            0            0            0   \n",
            "2               0            0            0            0            0   \n",
            "3               0            0            0            0            0   \n",
            "4               1            0            1            0            0   \n",
            "...           ...          ...          ...          ...          ...   \n",
            "1375           55           32           24           16           10   \n",
            "1376           90           46           17           19           12   \n",
            "1377           89           55           25           13            8   \n",
            "1378           71           43           23           20            7   \n",
            "1379           67           38           20           20           18   \n",
            "\n",
            "      cases_80  \n",
            "0            0  \n",
            "1            0  \n",
            "2            0  \n",
            "3            0  \n",
            "4            0  \n",
            "...        ...  \n",
            "1375        21  \n",
            "1376        18  \n",
            "1377        16  \n",
            "1378        15  \n",
            "1379        19  \n",
            "\n",
            "[1380 rows x 12 columns]\n",
            "Index(['date', 'cases_new', 'cases_0_4', 'cases_5_11', 'cases_12_17',\n",
            "       'cases_18_29', 'cases_30_39', 'cases_40_49', 'cases_50_59',\n",
            "       'cases_60_69', 'cases_70_79', 'cases_80'],\n",
            "      dtype='object')\n",
            "<class 'pandas.core.frame.DataFrame'>\n",
            "RangeIndex: 1380 entries, 0 to 1379\n",
            "Data columns (total 12 columns):\n",
            " #   Column       Non-Null Count  Dtype \n",
            "---  ------       --------------  ----- \n",
            " 0   date         1380 non-null   object\n",
            " 1   cases_new    1380 non-null   int64 \n",
            " 2   cases_0_4    1380 non-null   int64 \n",
            " 3   cases_5_11   1380 non-null   int64 \n",
            " 4   cases_12_17  1380 non-null   int64 \n",
            " 5   cases_18_29  1380 non-null   int64 \n",
            " 6   cases_30_39  1380 non-null   int64 \n",
            " 7   cases_40_49  1380 non-null   int64 \n",
            " 8   cases_50_59  1380 non-null   int64 \n",
            " 9   cases_60_69  1380 non-null   int64 \n",
            " 10  cases_70_79  1380 non-null   int64 \n",
            " 11  cases_80     1380 non-null   int64 \n",
            "dtypes: int64(11), object(1)\n",
            "memory usage: 129.5+ KB\n"
          ]
        }
      ]
    },
    {
      "cell_type": "code",
      "source": [
        "#Select interested column in death_my\n",
        "death_my_new = death_my.loc[:,['date','deaths_new']]\n",
        "print(death_my_new)\n",
        "print(death_my_new.columns)\n",
        "#check null value\n",
        "death_my_new.isnull().sum()\n",
        "death_my_new.info()\n"
      ],
      "metadata": {
        "id": "yvgO_WnPN_fx",
        "outputId": "269b92d0-e006-4add-f4be-ab75c4c53382",
        "colab": {
          "base_uri": "https://localhost:8080/"
        }
      },
      "execution_count": 8,
      "outputs": [
        {
          "output_type": "stream",
          "name": "stdout",
          "text": [
            "            date  deaths_new\n",
            "0     2020-03-17           2\n",
            "1     2020-03-18           0\n",
            "2     2020-03-19           0\n",
            "3     2020-03-20           1\n",
            "4     2020-03-21           4\n",
            "...          ...         ...\n",
            "1323  2023-10-31           1\n",
            "1324  2023-11-01           1\n",
            "1325  2023-11-02           0\n",
            "1326  2023-11-03           2\n",
            "1327  2023-11-04           0\n",
            "\n",
            "[1328 rows x 2 columns]\n",
            "Index(['date', 'deaths_new'], dtype='object')\n",
            "<class 'pandas.core.frame.DataFrame'>\n",
            "RangeIndex: 1328 entries, 0 to 1327\n",
            "Data columns (total 2 columns):\n",
            " #   Column      Non-Null Count  Dtype \n",
            "---  ------      --------------  ----- \n",
            " 0   date        1328 non-null   object\n",
            " 1   deaths_new  1328 non-null   int64 \n",
            "dtypes: int64(1), object(1)\n",
            "memory usage: 20.9+ KB\n"
          ]
        }
      ]
    },
    {
      "cell_type": "code",
      "source": [
        "#Select interested column in icu_my\n",
        "icu_my_new = icu_my.loc[:,['date','icu_covid']]\n",
        "icu_my_new_group = icu_my_new.groupby('date')['icu_covid'].sum().reset_index()\n",
        "print(icu_my_new_group)\n",
        "#check null value\n",
        "icu_my_new_group.isnull().sum()\n",
        "icu_my_new.info()"
      ],
      "metadata": {
        "id": "prQBvbD8OCzQ",
        "outputId": "f9e0bc43-120f-4802-e0a3-708a20dd4e47",
        "colab": {
          "base_uri": "https://localhost:8080/"
        }
      },
      "execution_count": 9,
      "outputs": [
        {
          "output_type": "stream",
          "name": "stdout",
          "text": [
            "            date  icu_covid\n",
            "0     2020-03-24         69\n",
            "1     2020-03-25         60\n",
            "2     2020-03-26         71\n",
            "3     2020-03-27         75\n",
            "4     2020-03-28         94\n",
            "...          ...        ...\n",
            "1315  2023-10-31          2\n",
            "1316  2023-11-01          4\n",
            "1317  2023-11-02          3\n",
            "1318  2023-11-03          4\n",
            "1319  2023-11-04          4\n",
            "\n",
            "[1320 rows x 2 columns]\n",
            "<class 'pandas.core.frame.DataFrame'>\n",
            "RangeIndex: 20726 entries, 0 to 20725\n",
            "Data columns (total 2 columns):\n",
            " #   Column     Non-Null Count  Dtype \n",
            "---  ------     --------------  ----- \n",
            " 0   date       20726 non-null  object\n",
            " 1   icu_covid  20726 non-null  int64 \n",
            "dtypes: int64(1), object(1)\n",
            "memory usage: 324.0+ KB\n"
          ]
        }
      ]
    },
    {
      "cell_type": "markdown",
      "source": [
        "Creating new dataframe (my_covid) - Merging datasets (based on date)"
      ],
      "metadata": {
        "id": "tqfezTwkM3OC"
      }
    },
    {
      "cell_type": "code",
      "source": [
        "# Ensuring formate of date - datetime type\n",
        "case_my_new['date'] = pd.to_datetime(case_my_new['date'])\n",
        "death_my_new['date'] = pd.to_datetime(death_my_new['date'])\n",
        "icu_my_new_group['date'] = pd.to_datetime(icu_my_new_group['date'])\n",
        "\n",
        "# Merge DataFrames\n",
        "my_covid = pd.merge(case_my_new, death_my_new, on='date', how='outer')\n",
        "my_covid = pd.merge(my_covid, icu_my_new_group, on='date', how='outer')\n",
        "\n",
        "# Sort DataFrame by 'date'\n",
        "my_covid = my_covid.sort_values(by='date')\n",
        "\n",
        "# Fill NaN values with 0\n",
        "my_covid = my_covid.fillna(0)"
      ],
      "metadata": {
        "id": "dnUbOi5lG-qQ"
      },
      "execution_count": 10,
      "outputs": []
    },
    {
      "cell_type": "markdown",
      "source": [
        "Validating new data frame (my_covid)"
      ],
      "metadata": {
        "id": "pGKVdkMmNLhg"
      }
    },
    {
      "cell_type": "code",
      "source": [
        "## Validation\n",
        "print(my_covid)\n",
        "print(my_covid.isnull().sum())\n",
        "\n",
        "num_rows, num_columns = my_covid.shape\n",
        "print(f\"Number of Rows: {num_rows}\")\n",
        "print(f\"Number of Columns: {num_columns}\")\n",
        "\n",
        "# Ensuring formate of date - datetime type\n",
        "print(my_covid.dtypes)\n",
        "# my_covid['date'] = pd.to_datetime(my_covid['date'])\n",
        "\n",
        "my_covid.to_csv('my_covid.csv', index=False)"
      ],
      "metadata": {
        "id": "SToX1rC0NMTw",
        "outputId": "a935c7bb-b0a7-4e8c-c8a6-4fff02a291e5",
        "colab": {
          "base_uri": "https://localhost:8080/"
        }
      },
      "execution_count": 11,
      "outputs": [
        {
          "output_type": "stream",
          "name": "stdout",
          "text": [
            "           date  cases_new  cases_0_4  cases_5_11  cases_12_17  cases_18_29  \\\n",
            "0    2020-01-25          4          0           0            0            0   \n",
            "1    2020-01-26          0          0           0            0            0   \n",
            "2    2020-01-27          0          0           0            0            0   \n",
            "3    2020-01-28          0          0           0            0            0   \n",
            "4    2020-01-29          3          1           0            0            0   \n",
            "...         ...        ...        ...         ...          ...          ...   \n",
            "1375 2023-10-31        240          3           5           10           64   \n",
            "1376 2023-11-01        289          4           4            9           70   \n",
            "1377 2023-11-02        305          8           3           18           70   \n",
            "1378 2023-11-03        283          8          10           13           73   \n",
            "1379 2023-11-04        262          4           8            6           62   \n",
            "\n",
            "      cases_30_39  cases_40_49  cases_50_59  cases_60_69  cases_70_79  \\\n",
            "0               0            1            0            0            0   \n",
            "1               0            0            0            0            0   \n",
            "2               0            0            0            0            0   \n",
            "3               0            0            0            0            0   \n",
            "4               1            0            1            0            0   \n",
            "...           ...          ...          ...          ...          ...   \n",
            "1375           55           32           24           16           10   \n",
            "1376           90           46           17           19           12   \n",
            "1377           89           55           25           13            8   \n",
            "1378           71           43           23           20            7   \n",
            "1379           67           38           20           20           18   \n",
            "\n",
            "      cases_80  deaths_new  icu_covid  \n",
            "0            0         0.0        0.0  \n",
            "1            0         0.0        0.0  \n",
            "2            0         0.0        0.0  \n",
            "3            0         0.0        0.0  \n",
            "4            0         0.0        0.0  \n",
            "...        ...         ...        ...  \n",
            "1375        21         1.0        2.0  \n",
            "1376        18         1.0        4.0  \n",
            "1377        16         0.0        3.0  \n",
            "1378        15         2.0        4.0  \n",
            "1379        19         0.0        4.0  \n",
            "\n",
            "[1380 rows x 14 columns]\n",
            "date           0\n",
            "cases_new      0\n",
            "cases_0_4      0\n",
            "cases_5_11     0\n",
            "cases_12_17    0\n",
            "cases_18_29    0\n",
            "cases_30_39    0\n",
            "cases_40_49    0\n",
            "cases_50_59    0\n",
            "cases_60_69    0\n",
            "cases_70_79    0\n",
            "cases_80       0\n",
            "deaths_new     0\n",
            "icu_covid      0\n",
            "dtype: int64\n",
            "Number of Rows: 1380\n",
            "Number of Columns: 14\n",
            "date           datetime64[ns]\n",
            "cases_new               int64\n",
            "cases_0_4               int64\n",
            "cases_5_11              int64\n",
            "cases_12_17             int64\n",
            "cases_18_29             int64\n",
            "cases_30_39             int64\n",
            "cases_40_49             int64\n",
            "cases_50_59             int64\n",
            "cases_60_69             int64\n",
            "cases_70_79             int64\n",
            "cases_80                int64\n",
            "deaths_new            float64\n",
            "icu_covid             float64\n",
            "dtype: object\n"
          ]
        }
      ]
    },
    {
      "cell_type": "markdown",
      "source": [
        "Creating a new dataframe with the inclusion of prominent variant column"
      ],
      "metadata": {
        "id": "71oRUTOL1bP3"
      }
    },
    {
      "cell_type": "code",
      "source": [
        "# Filtering based on date (25/01/2020 - 30/06/2023)\n",
        "start_date = '2020-01-25'\n",
        "end_date = '2023-06-30'\n",
        "\n",
        "filtered_my_covid= my_covid.loc[my_covid['date'].between('2020-01-25', '2023-06-30')]\n",
        "\n",
        "print(filtered_my_covid)\n",
        "\n",
        "#checking data type for each columns\n",
        "filtered_my_covid.dtypes\n",
        "\n",
        "#load data to csv file\n",
        "filtered_my_covid.to_csv('/content/drive/My Drive/HIAProject302/filtered_my_covid.csv', index=False)\n"
      ],
      "metadata": {
        "id": "gGfcKDuVPgcd",
        "outputId": "fc8202a1-d6d0-44f9-ce6a-7be197c0a99e",
        "colab": {
          "base_uri": "https://localhost:8080/"
        }
      },
      "execution_count": 12,
      "outputs": [
        {
          "output_type": "stream",
          "name": "stdout",
          "text": [
            "           date  cases_new  cases_0_4  cases_5_11  cases_12_17  cases_18_29  \\\n",
            "0    2020-01-25          4          0           0            0            0   \n",
            "1    2020-01-26          0          0           0            0            0   \n",
            "2    2020-01-27          0          0           0            0            0   \n",
            "3    2020-01-28          0          0           0            0            0   \n",
            "4    2020-01-29          3          1           0            0            0   \n",
            "...         ...        ...        ...         ...          ...          ...   \n",
            "1248 2023-06-26        160          8          11           10           24   \n",
            "1249 2023-06-27        282         10           9            7           54   \n",
            "1250 2023-06-28        252          5          14            9           44   \n",
            "1251 2023-06-29        223          8           8            6           41   \n",
            "1252 2023-06-30        182          4           3            5           48   \n",
            "\n",
            "      cases_30_39  cases_40_49  cases_50_59  cases_60_69  cases_70_79  \\\n",
            "0               0            1            0            0            0   \n",
            "1               0            0            0            0            0   \n",
            "2               0            0            0            0            0   \n",
            "3               0            0            0            0            0   \n",
            "4               1            0            1            0            0   \n",
            "...           ...          ...          ...          ...          ...   \n",
            "1248           38           21           16            4           16   \n",
            "1249           87           44           23           18           13   \n",
            "1250           69           52           21           13           10   \n",
            "1251           64           53           21            5            5   \n",
            "1252           44           20           17           13           16   \n",
            "\n",
            "      cases_80  deaths_new  icu_covid  \n",
            "0            0         0.0        0.0  \n",
            "1            0         0.0        0.0  \n",
            "2            0         0.0        0.0  \n",
            "3            0         0.0        0.0  \n",
            "4            0         0.0        0.0  \n",
            "...        ...         ...        ...  \n",
            "1248        12         0.0       18.0  \n",
            "1249        17         0.0       15.0  \n",
            "1250        15         0.0       15.0  \n",
            "1251        12         0.0       14.0  \n",
            "1252        12         0.0        8.0  \n",
            "\n",
            "[1253 rows x 14 columns]\n"
          ]
        }
      ]
    },
    {
      "cell_type": "code",
      "source": [
        "# Create a new dataframe consists of  'prominent_variant' column using filtered_my_covid\n",
        "my_covid_variant= filtered_my_covid.copy()\n",
        "\n",
        "my_covid_variant['prominent_variant'] = pd.cut(\n",
        "    my_covid_variant['date'],\n",
        "    bins=[pd.to_datetime('2020-01-21'), pd.to_datetime('2021-06-08'), pd.to_datetime('2021-07-05'), pd.to_datetime('2021-12-21'), pd.to_datetime('2100-01-01')],\n",
        "    labels=['other', 'beta', 'delta', 'omicron'],\n",
        "    right=False\n",
        ")\n",
        "\n",
        "#load data to csv file\n",
        "my_covid_variant.to_csv('/content/drive/My Drive/HIAProject302/my_covid_variant.csv', index=False)\n",
        "print(my_covid_variant.head)"
      ],
      "metadata": {
        "id": "kO--dzZO1aFB",
        "outputId": "4f940c99-2c39-49b9-eb94-e393e21e78c3",
        "colab": {
          "base_uri": "https://localhost:8080/"
        }
      },
      "execution_count": 13,
      "outputs": [
        {
          "output_type": "stream",
          "name": "stdout",
          "text": [
            "<bound method NDFrame.head of            date  cases_new  cases_0_4  cases_5_11  cases_12_17  cases_18_29  \\\n",
            "0    2020-01-25          4          0           0            0            0   \n",
            "1    2020-01-26          0          0           0            0            0   \n",
            "2    2020-01-27          0          0           0            0            0   \n",
            "3    2020-01-28          0          0           0            0            0   \n",
            "4    2020-01-29          3          1           0            0            0   \n",
            "...         ...        ...        ...         ...          ...          ...   \n",
            "1248 2023-06-26        160          8          11           10           24   \n",
            "1249 2023-06-27        282         10           9            7           54   \n",
            "1250 2023-06-28        252          5          14            9           44   \n",
            "1251 2023-06-29        223          8           8            6           41   \n",
            "1252 2023-06-30        182          4           3            5           48   \n",
            "\n",
            "      cases_30_39  cases_40_49  cases_50_59  cases_60_69  cases_70_79  \\\n",
            "0               0            1            0            0            0   \n",
            "1               0            0            0            0            0   \n",
            "2               0            0            0            0            0   \n",
            "3               0            0            0            0            0   \n",
            "4               1            0            1            0            0   \n",
            "...           ...          ...          ...          ...          ...   \n",
            "1248           38           21           16            4           16   \n",
            "1249           87           44           23           18           13   \n",
            "1250           69           52           21           13           10   \n",
            "1251           64           53           21            5            5   \n",
            "1252           44           20           17           13           16   \n",
            "\n",
            "      cases_80  deaths_new  icu_covid prominent_variant  \n",
            "0            0         0.0        0.0             other  \n",
            "1            0         0.0        0.0             other  \n",
            "2            0         0.0        0.0             other  \n",
            "3            0         0.0        0.0             other  \n",
            "4            0         0.0        0.0             other  \n",
            "...        ...         ...        ...               ...  \n",
            "1248        12         0.0       18.0           omicron  \n",
            "1249        17         0.0       15.0           omicron  \n",
            "1250        15         0.0       15.0           omicron  \n",
            "1251        12         0.0       14.0           omicron  \n",
            "1252        12         0.0        8.0           omicron  \n",
            "\n",
            "[1253 rows x 15 columns]>\n"
          ]
        }
      ]
    },
    {
      "cell_type": "markdown",
      "source": [
        "Creating new dataframe based on 7 days aggregate (sum) and filtered for date (01/01/2020 - 30/06/2023) = my_covid_group"
      ],
      "metadata": {
        "id": "YzfDarpLPFk6"
      }
    },
    {
      "cell_type": "code",
      "source": [
        "# New dataframe based on 7 days aggregate (sum) = my_covid_group\n",
        "\n",
        "filtered_my_covid['date'] = pd.to_datetime(filtered_my_covid['date'])\n",
        "filtered_my_covid.set_index('date', inplace=True)\n",
        "\n",
        "my_covid_group = filtered_my_covid.resample('7D').sum()\n",
        "my_covid_group.reset_index(inplace=True)\n",
        "print(my_covid_group)\n",
        "\n",
        "my_covid_group.to_csv('my_covid_group.csv', index=False)"
      ],
      "metadata": {
        "id": "i3TYJgYC9V-j",
        "outputId": "11b2eb7a-2ce1-41bd-c45c-48b5be7c38f3",
        "colab": {
          "base_uri": "https://localhost:8080/"
        }
      },
      "execution_count": 14,
      "outputs": [
        {
          "output_type": "stream",
          "name": "stdout",
          "text": [
            "          date  cases_new  cases_0_4  cases_5_11  cases_12_17  cases_18_29  \\\n",
            "0   2020-01-25          8          1           0            0            0   \n",
            "1   2020-02-01          7          0           1            0            0   \n",
            "2   2020-02-08          4          0           0            0            0   \n",
            "3   2020-02-15          3          0           0            0            1   \n",
            "4   2020-02-22          3          0           0            0            0   \n",
            "..         ...        ...        ...         ...          ...          ...   \n",
            "174 2023-05-27       4736         93         142          151         1134   \n",
            "175 2023-06-03       3765         76          97          125          919   \n",
            "176 2023-06-10       3651         86         120          138          837   \n",
            "177 2023-06-17       2757         51         103          140          682   \n",
            "178 2023-06-24       1718         53          67           65          355   \n",
            "\n",
            "     cases_30_39  cases_40_49  cases_50_59  cases_60_69  cases_70_79  \\\n",
            "0              1            2            1            0            0   \n",
            "1              1            3            1            1            0   \n",
            "2              2            0            0            2            0   \n",
            "3              1            0            0            0            0   \n",
            "4              0            2            1            0            0   \n",
            "..           ...          ...          ...          ...          ...   \n",
            "174         1292          754          391          294          212   \n",
            "175         1003          618          284          219          180   \n",
            "176          957          563          357          204          157   \n",
            "177          670          412          228          162          118   \n",
            "178          466          288          144           86           82   \n",
            "\n",
            "     cases_80  deaths_new  icu_covid  \n",
            "0           0         0.0        0.0  \n",
            "1           0         0.0        0.0  \n",
            "2           0         0.0        0.0  \n",
            "3           1         0.0        0.0  \n",
            "4           0         0.0        0.0  \n",
            "..        ...         ...        ...  \n",
            "174       273        16.0      192.0  \n",
            "175       244         9.0      141.0  \n",
            "176       232        11.0      111.0  \n",
            "177       191        10.0      110.0  \n",
            "178       112         1.0      105.0  \n",
            "\n",
            "[179 rows x 14 columns]\n"
          ]
        },
        {
          "output_type": "stream",
          "name": "stderr",
          "text": [
            "<ipython-input-14-2f36a110d50b>:3: SettingWithCopyWarning: \n",
            "A value is trying to be set on a copy of a slice from a DataFrame.\n",
            "Try using .loc[row_indexer,col_indexer] = value instead\n",
            "\n",
            "See the caveats in the documentation: https://pandas.pydata.org/pandas-docs/stable/user_guide/indexing.html#returning-a-view-versus-a-copy\n",
            "  filtered_my_covid['date'] = pd.to_datetime(filtered_my_covid['date'])\n"
          ]
        }
      ]
    },
    {
      "cell_type": "markdown",
      "source": [
        "Create new dataframe based on 7-days average (mean)= seven_days_mean and validate"
      ],
      "metadata": {
        "id": "Wtu2u1KzPqV0"
      }
    },
    {
      "cell_type": "code",
      "source": [
        "## New dataframe based on 7-days average (mean)= seven_days_mean\n",
        "seven_days_mean = filtered_my_covid.resample('7D').mean()\n",
        "seven_days_mean = seven_days_mean.round(2)\n",
        "seven_days_mean.reset_index(inplace=True)\n",
        "\n",
        "## Validation\n",
        "print(seven_days_mean)\n",
        "print(seven_days_mean.isnull().sum())\n",
        "\n",
        "seven_days_mean.to_csv('seven_days_mean.csv', index=False)\n",
        "print(seven_days_mean.columns)"
      ],
      "metadata": {
        "id": "Nwp7mnlTP0RP",
        "outputId": "6271dfbf-5b85-4432-a27a-566da30d953d",
        "colab": {
          "base_uri": "https://localhost:8080/"
        }
      },
      "execution_count": 15,
      "outputs": [
        {
          "output_type": "stream",
          "name": "stdout",
          "text": [
            "          date  cases_new  cases_0_4  cases_5_11  cases_12_17  cases_18_29  \\\n",
            "0   2020-01-25       1.14       0.14        0.00         0.00         0.00   \n",
            "1   2020-02-01       1.00       0.00        0.14         0.00         0.00   \n",
            "2   2020-02-08       0.57       0.00        0.00         0.00         0.00   \n",
            "3   2020-02-15       0.43       0.00        0.00         0.00         0.14   \n",
            "4   2020-02-22       0.43       0.00        0.00         0.00         0.00   \n",
            "..         ...        ...        ...         ...          ...          ...   \n",
            "174 2023-05-27     676.57      13.29       20.29        21.57       162.00   \n",
            "175 2023-06-03     537.86      10.86       13.86        17.86       131.29   \n",
            "176 2023-06-10     521.57      12.29       17.14        19.71       119.57   \n",
            "177 2023-06-17     393.86       7.29       14.71        20.00        97.43   \n",
            "178 2023-06-24     245.43       7.57        9.57         9.29        50.71   \n",
            "\n",
            "     cases_30_39  cases_40_49  cases_50_59  cases_60_69  cases_70_79  \\\n",
            "0           0.14         0.29         0.14         0.00         0.00   \n",
            "1           0.14         0.43         0.14         0.14         0.00   \n",
            "2           0.29         0.00         0.00         0.29         0.00   \n",
            "3           0.14         0.00         0.00         0.00         0.00   \n",
            "4           0.00         0.29         0.14         0.00         0.00   \n",
            "..           ...          ...          ...          ...          ...   \n",
            "174       184.57       107.71        55.86        42.00        30.29   \n",
            "175       143.29        88.29        40.57        31.29        25.71   \n",
            "176       136.71        80.43        51.00        29.14        22.43   \n",
            "177        95.71        58.86        32.57        23.14        16.86   \n",
            "178        66.57        41.14        20.57        12.29        11.71   \n",
            "\n",
            "     cases_80  deaths_new  icu_covid  \n",
            "0        0.00        0.00       0.00  \n",
            "1        0.00        0.00       0.00  \n",
            "2        0.00        0.00       0.00  \n",
            "3        0.14        0.00       0.00  \n",
            "4        0.00        0.00       0.00  \n",
            "..        ...         ...        ...  \n",
            "174     39.00        2.29      27.43  \n",
            "175     34.86        1.29      20.14  \n",
            "176     33.14        1.57      15.86  \n",
            "177     27.29        1.43      15.71  \n",
            "178     16.00        0.14      15.00  \n",
            "\n",
            "[179 rows x 14 columns]\n",
            "date           0\n",
            "cases_new      0\n",
            "cases_0_4      0\n",
            "cases_5_11     0\n",
            "cases_12_17    0\n",
            "cases_18_29    0\n",
            "cases_30_39    0\n",
            "cases_40_49    0\n",
            "cases_50_59    0\n",
            "cases_60_69    0\n",
            "cases_70_79    0\n",
            "cases_80       0\n",
            "deaths_new     0\n",
            "icu_covid      0\n",
            "dtype: int64\n",
            "Index(['date', 'cases_new', 'cases_0_4', 'cases_5_11', 'cases_12_17',\n",
            "       'cases_18_29', 'cases_30_39', 'cases_40_49', 'cases_50_59',\n",
            "       'cases_60_69', 'cases_70_79', 'cases_80', 'deaths_new', 'icu_covid'],\n",
            "      dtype='object')\n"
          ]
        }
      ]
    },
    {
      "cell_type": "markdown",
      "source": [
        "Creating working data frame from seven_days_mean and factoring in predominant circulating COVID-19 variant"
      ],
      "metadata": {
        "id": "_Aq-z77hQEmx"
      }
    },
    {
      "cell_type": "code",
      "source": [
        "# New dataframe:seven_days_mean_variant (this with predominant circulating variant)\n",
        "\n",
        "seven_days_mean_variant = seven_days_mean.copy()\n",
        "\n",
        "# Create a new column 'prominent_variant'\n",
        "seven_days_mean_variant['prominent_variant'] = pd.cut(\n",
        "    seven_days_mean_variant['date'],\n",
        "    bins=[pd.to_datetime('2000-01-01'), pd.to_datetime('2021-06-08'), pd.to_datetime('2021-07-05'), pd.to_datetime('2021-12-20'), pd.to_datetime('2100-01-01')],\n",
        "    labels=['other', 'beta', 'delta', 'omicron'],\n",
        "    right=False\n",
        ")\n",
        "\n",
        "## Validation\n",
        "print(seven_days_mean_variant)\n",
        "print(seven_days_mean_variant.isnull().sum())\n",
        "\n",
        "print(seven_days_mean_variant.head())\n",
        "seven_days_mean_variant.to_csv('seven_days_mean_variant.csv', index=False)"
      ],
      "metadata": {
        "id": "WEH0wJvmQV6U",
        "outputId": "b93339a9-c337-43ba-9fd3-45fd8ff83583",
        "colab": {
          "base_uri": "https://localhost:8080/"
        }
      },
      "execution_count": 16,
      "outputs": [
        {
          "output_type": "stream",
          "name": "stdout",
          "text": [
            "          date  cases_new  cases_0_4  cases_5_11  cases_12_17  cases_18_29  \\\n",
            "0   2020-01-25       1.14       0.14        0.00         0.00         0.00   \n",
            "1   2020-02-01       1.00       0.00        0.14         0.00         0.00   \n",
            "2   2020-02-08       0.57       0.00        0.00         0.00         0.00   \n",
            "3   2020-02-15       0.43       0.00        0.00         0.00         0.14   \n",
            "4   2020-02-22       0.43       0.00        0.00         0.00         0.00   \n",
            "..         ...        ...        ...         ...          ...          ...   \n",
            "174 2023-05-27     676.57      13.29       20.29        21.57       162.00   \n",
            "175 2023-06-03     537.86      10.86       13.86        17.86       131.29   \n",
            "176 2023-06-10     521.57      12.29       17.14        19.71       119.57   \n",
            "177 2023-06-17     393.86       7.29       14.71        20.00        97.43   \n",
            "178 2023-06-24     245.43       7.57        9.57         9.29        50.71   \n",
            "\n",
            "     cases_30_39  cases_40_49  cases_50_59  cases_60_69  cases_70_79  \\\n",
            "0           0.14         0.29         0.14         0.00         0.00   \n",
            "1           0.14         0.43         0.14         0.14         0.00   \n",
            "2           0.29         0.00         0.00         0.29         0.00   \n",
            "3           0.14         0.00         0.00         0.00         0.00   \n",
            "4           0.00         0.29         0.14         0.00         0.00   \n",
            "..           ...          ...          ...          ...          ...   \n",
            "174       184.57       107.71        55.86        42.00        30.29   \n",
            "175       143.29        88.29        40.57        31.29        25.71   \n",
            "176       136.71        80.43        51.00        29.14        22.43   \n",
            "177        95.71        58.86        32.57        23.14        16.86   \n",
            "178        66.57        41.14        20.57        12.29        11.71   \n",
            "\n",
            "     cases_80  deaths_new  icu_covid prominent_variant  \n",
            "0        0.00        0.00       0.00             other  \n",
            "1        0.00        0.00       0.00             other  \n",
            "2        0.00        0.00       0.00             other  \n",
            "3        0.14        0.00       0.00             other  \n",
            "4        0.00        0.00       0.00             other  \n",
            "..        ...         ...        ...               ...  \n",
            "174     39.00        2.29      27.43           omicron  \n",
            "175     34.86        1.29      20.14           omicron  \n",
            "176     33.14        1.57      15.86           omicron  \n",
            "177     27.29        1.43      15.71           omicron  \n",
            "178     16.00        0.14      15.00           omicron  \n",
            "\n",
            "[179 rows x 15 columns]\n",
            "date                 0\n",
            "cases_new            0\n",
            "cases_0_4            0\n",
            "cases_5_11           0\n",
            "cases_12_17          0\n",
            "cases_18_29          0\n",
            "cases_30_39          0\n",
            "cases_40_49          0\n",
            "cases_50_59          0\n",
            "cases_60_69          0\n",
            "cases_70_79          0\n",
            "cases_80             0\n",
            "deaths_new           0\n",
            "icu_covid            0\n",
            "prominent_variant    0\n",
            "dtype: int64\n",
            "        date  cases_new  cases_0_4  cases_5_11  cases_12_17  cases_18_29  \\\n",
            "0 2020-01-25       1.14       0.14        0.00          0.0         0.00   \n",
            "1 2020-02-01       1.00       0.00        0.14          0.0         0.00   \n",
            "2 2020-02-08       0.57       0.00        0.00          0.0         0.00   \n",
            "3 2020-02-15       0.43       0.00        0.00          0.0         0.14   \n",
            "4 2020-02-22       0.43       0.00        0.00          0.0         0.00   \n",
            "\n",
            "   cases_30_39  cases_40_49  cases_50_59  cases_60_69  cases_70_79  cases_80  \\\n",
            "0         0.14         0.29         0.14         0.00          0.0      0.00   \n",
            "1         0.14         0.43         0.14         0.14          0.0      0.00   \n",
            "2         0.29         0.00         0.00         0.29          0.0      0.00   \n",
            "3         0.14         0.00         0.00         0.00          0.0      0.14   \n",
            "4         0.00         0.29         0.14         0.00          0.0      0.00   \n",
            "\n",
            "   deaths_new  icu_covid prominent_variant  \n",
            "0         0.0        0.0             other  \n",
            "1         0.0        0.0             other  \n",
            "2         0.0        0.0             other  \n",
            "3         0.0        0.0             other  \n",
            "4         0.0        0.0             other  \n"
          ]
        }
      ]
    },
    {
      "cell_type": "markdown",
      "source": [
        "Statistical Analysis"
      ],
      "metadata": {
        "id": "KUXdpJ91G_WE"
      }
    },
    {
      "cell_type": "code",
      "source": [
        "#  #Boxplot\n",
        "numerical_columns = seven_days_mean_variant.select_dtypes(include=[np.number]).columns\n",
        "plt.figure(figsize=(16, 8))\n",
        "for i, column in enumerate(numerical_columns, start=1):\n",
        "    plt.subplot(3, 5, i)\n",
        "    sns.boxplot(x='prominent_variant', y=column, data=seven_days_mean_variant)\n",
        "    plt.title(f'Box Plot for {column}')\n",
        "    plt.xlabel('Prominent Variant')\n",
        "    plt.ylabel(column)\n",
        "\n",
        "plt.tight_layout()\n",
        "plt.show()"
      ],
      "metadata": {
        "id": "LoOCaN7S6T0C"
      },
      "execution_count": null,
      "outputs": []
    },
    {
      "cell_type": "code",
      "source": [
        "# Line graph - New cases , ICU and Deaths with Variant period\n",
        "\n",
        "plt.figure(figsize=(14, 8))\n",
        "\n",
        "# Plotting trends\n",
        "plt.plot(seven_days_mean_variant['date'], seven_days_mean_variant['cases_new'], label='Cases_New', color='blue', linewidth=3.0)\n",
        "plt.plot(seven_days_mean_variant['date'], seven_days_mean_variant['deaths_new'], label='Deaths_New', color='darkgreen', linewidth=3.0)\n",
        "plt.plot(seven_days_mean_variant['date'], seven_days_mean_variant['icu_covid'], label='ICU_COVID', color='purple', linewidth=3.0)\n",
        "\n",
        "# Adding shaded regions for variant periods\n",
        "variant_periods = seven_days_mean_variant[['date', 'prominent_variant']].drop_duplicates()\n",
        "variant_colors = {'other': 'darkcyan', 'beta': 'lime', 'delta': 'gold', 'omicron': 'crimson'}\n",
        "\n",
        "# Create legend handles for variant colors\n",
        "variant_handles = [plt.Line2D([0], [0], marker='o', color=color, label=f'{variant}') for variant, color in variant_colors.items()]\n",
        "\n",
        "# Adding shaded regions for variant periods\n",
        "for i, row in variant_periods.iterrows():\n",
        "    variant_start = row['date']\n",
        "    if i + 1 < len(variant_periods):\n",
        "        variant_end = variant_periods.iloc[i + 1]['date']\n",
        "    else:\n",
        "        variant_end = seven_days_mean_variant['date'].max()\n",
        "\n",
        "    plt.axvspan(variant_start, variant_end, color=variant_colors[row['prominent_variant']], alpha=0.3)\n",
        "\n",
        "# Combine legends for trends and variant colors\n",
        "plt.legend(loc='upper left', bbox_to_anchor=(1, 1), handles=variant_handles + plt.legend().legendHandles)\n",
        "\n",
        "plt.xlabel('Date')\n",
        "plt.ylabel('Count')\n",
        "plt.title('Trends of Cases_New, Deaths_New, and ICU_COVID over Time')\n",
        "\n",
        "plt.tight_layout()\n",
        "plt.show()"
      ],
      "metadata": {
        "id": "V4uhJGNI6tFp"
      },
      "execution_count": null,
      "outputs": []
    },
    {
      "cell_type": "code",
      "source": [
        "# Stacked bar - new cases, icu and death over prominent variance\n",
        "\n",
        "plt.figure(figsize=(14, 8))\n",
        "columns_to_plot = ['cases_new', 'icu_covid', 'deaths_new']\n",
        "melted_data = pd.melt(seven_days_mean_variant, id_vars=['prominent_variant'], value_vars=columns_to_plot, var_name='attribute')\n",
        "\n",
        "sns.barplot(x='prominent_variant', y='value', hue='attribute', data=melted_data, ci=None, palette='viridis', estimator=sum)\n",
        "plt.title('Stacked Bar Chart of New Cases, ICU, and Deaths across Prominent Variants')\n",
        "plt.xlabel('Prominent Variant Period')\n",
        "plt.ylabel('Count')\n",
        "plt.legend(title='Attribute')\n",
        "plt.show()"
      ],
      "metadata": {
        "id": "KqUcFw9rDtoE"
      },
      "execution_count": null,
      "outputs": []
    },
    {
      "cell_type": "code",
      "source": [
        "# Stacked Bar chart - number of new cases per age category over variant predominance\n",
        "\n",
        "plt.figure(figsize=(14, 8))\n",
        "age_group_columns_new_cases = ['cases_0_4', 'cases_5_11', 'cases_12_17', 'cases_18_29', 'cases_30_39',\n",
        "                                'cases_40_49', 'cases_50_59', 'cases_60_69', 'cases_70_79', 'cases_80']\n",
        "\n",
        "melted_data_new_cases = pd.melt(seven_days_mean_variant, id_vars=['prominent_variant'], value_vars=age_group_columns_new_cases, var_name='age_group')\n",
        "\n",
        "sns.barplot(x='prominent_variant', y='value', hue='age_group', data=melted_data_new_cases, ci=None, palette='viridis', estimator=sum)\n",
        "plt.title('Stacked Bar Chart of New Cases across Age Groups and Prominent Variants')\n",
        "plt.xlabel('Prominent Variant Period')\n",
        "plt.ylabel('Number of New Cases')\n",
        "plt.legend(title='Age Group')\n",
        "plt.show()"
      ],
      "metadata": {
        "id": "_pZyEpx-FNCR"
      },
      "execution_count": null,
      "outputs": []
    },
    {
      "cell_type": "code",
      "source": [
        "#count total number of each age category using my_covid_variant dataframe\n",
        "# Get column names\n",
        "columns = ['cases_0_4', 'cases_5_11', 'cases_12_17', 'cases_18_29', 'cases_30_39',\n",
        "                                'cases_40_49', 'cases_50_59', 'cases_60_69', 'cases_70_79', 'cases_80','icu_covid','deaths_new']\n",
        "\n",
        "## count total number of new cases\n",
        "sum_new_cases= my_covid_variant['cases_new'].sum()\n",
        "print(f\"Total new cases:{sum_new_cases:}\")\n",
        "\n",
        "# Calculate sum for each column\n",
        "column_sums = []\n",
        "for col in columns:\n",
        "    col_sum = my_covid_variant[col].sum()\n",
        "    percentage = (col_sum /sum_new_cases ) * 100\n",
        "    column_sums.append([col, col_sum,percentage])\n",
        "    print(f\"Sum of values in column {col}: {col_sum}; {percentage:.2f}%\")\n",
        "    from tabulate import tabulate\n",
        "print(tabulate(column_sums, headers=['Column', 'Total','Percentage'], tablefmt='simple_grid'))\n"
      ],
      "metadata": {
        "id": "MovbCkOn0egP"
      },
      "execution_count": null,
      "outputs": []
    },
    {
      "cell_type": "code",
      "source": [
        "##Group all the variants into resepective timeframe\n",
        "# Count total number of other variant\n",
        "##date = 2020-01-25 - 2021-06-07\n",
        "other = my_covid_variant.loc[my_covid_variant['date'].between('2020-01-25','2021-06-07')]\n",
        "sum_other= other['cases_new'].sum()\n",
        "print(f\"Total number of other variant:{sum_other:}\")\n",
        "\n",
        "# Count total number of beta variant\n",
        "##date = 2021-06-08 - 2021-07-04\n",
        "beta = my_covid_variant.loc[my_covid_variant['date'].between('2021-06-08','2021-07-04')]\n",
        "sum_beta= beta['cases_new'].sum()\n",
        "print(f\"Total number of beta variant:{sum_beta:}\")\n",
        "\n",
        "# Count total number of delta variant\n",
        "##date = 2021-07-05 - 2021-12-20\n",
        "delta = my_covid_variant.loc[my_covid_variant['date'].between('2021-07-05','2021-12-20')]\n",
        "sum_delta= delta['cases_new'].sum()\n",
        "print(f\"Total number of delta variant:{sum_delta:}\")\n",
        "\n",
        "# Count total number of omicron variant\n",
        "##date = 2021-12-21 - 2023-06-30\n",
        "micron = my_covid_variant.loc[my_covid_variant['date'].between('2021-12-21','2023-06-30')]\n",
        "sum_omicron= micron['cases_new'].sum()\n",
        "print(f\"Total number of omicron variant{sum_omicron:}\")"
      ],
      "metadata": {
        "id": "XTHegsHT02pU"
      },
      "execution_count": null,
      "outputs": []
    },
    {
      "cell_type": "code",
      "source": [
        "#Calculate the ratio of each variant in total number of cases\n",
        "##divide other variant with total number of cases\n",
        "other_2= sum_other/sum_new_cases\n",
        "print(f\"Other:{other_2:.4f}\")\n",
        "\n",
        "##divide beta variant with total number of cases\n",
        "beta_2 =sum_beta/sum_new_cases\n",
        "print(f\"Beta:{beta_2:.4f}\")\n",
        "\n",
        "##divide delta variant with total number of cases\n",
        "delta_2= sum_delta/sum_new_cases\n",
        "print(f\"Delta:{delta_2:.4f}\")\n",
        "\n",
        "##divide omicron variant with total number of cases\n",
        "omicron_2= sum_omicron/sum_new_cases\n",
        "print(f\"Omicron:{omicron_2:.4f}\")"
      ],
      "metadata": {
        "id": "KRlWQ67b2qxM"
      },
      "execution_count": null,
      "outputs": []
    },
    {
      "cell_type": "code",
      "source": [
        "# Pie chart of prominent variants\n",
        "variant= [other_2, beta_2, delta_2, omicron_2]\n",
        "variant_labels = ['Other','Beta', 'Delta', 'Omicron']\n",
        "\n",
        "# Create a pie chart\n",
        "plt.figure(figsize=(8, 6))\n",
        "colors=['darkcyan','mediumturquoise','steelblue','aqua']\n",
        "plt.pie(variant, labels=variant_labels, autopct='%1.1f%%', startangle=140, colors=colors)\n",
        "plt.title('Distribution of COVID-19 Variants')\n",
        "plt.axis('equal')  # Equal aspect ratio ensures that pie is drawn as a circle.\n",
        "\n",
        "# Show the pie chart\n",
        "plt.show()"
      ],
      "metadata": {
        "id": "9SjGcedf26NL"
      },
      "execution_count": null,
      "outputs": []
    },
    {
      "cell_type": "code",
      "source": [
        "# description of the data in seven_days_mean_variant\n",
        "seven_days_mean_variant.describe()"
      ],
      "metadata": {
        "id": "SHFzZp313CKO"
      },
      "execution_count": null,
      "outputs": []
    },
    {
      "cell_type": "code",
      "source": [
        "#Regression model of new death and icu covid [overall]\n",
        "p=sns.regplot(seven_days_mean_variant, x='icu_covid', y='deaths_new', ci=None, line_kws = {\"color\": \"blue\"})\n",
        "#calculate slope and intercept of regression equation\n",
        "slope, intercept, r, p, sterr = scipy.stats.linregress(x=p.get_lines()[0].get_xdata(),\n",
        "                                                       y=p.get_lines()[0].get_ydata())\n",
        "#display slope and intercept of regression equation\n",
        "print(f\"intercept:{intercept:.3f}, slope:{slope:.3f}\")\n",
        "\n",
        "#add regression equation to plot (#2, #95 represents the coordinate to display the equation )\n",
        "plt.text(2, 150, 'y = ' + str(round(intercept,3)) + ' + ' + str(round(slope,3)) + 'x')\n",
        "\n",
        "\n",
        "# Add title\n",
        "plt.title('New_deaths against ICU_Covid')\n",
        "plt.show()"
      ],
      "metadata": {
        "id": "7Nvkln0E3LiW"
      },
      "execution_count": null,
      "outputs": []
    },
    {
      "cell_type": "code",
      "source": [
        "#R-squared of regression model (icu covid against new death)\n",
        "#initiate linear regression model\n",
        "model = LinearRegression()\n",
        "\n",
        "#define predictor and response variables\n",
        "X, y = seven_days_mean_variant[['icu_covid']], seven_days_mean_variant.deaths_new\n",
        "\n",
        "#fit regression model\n",
        "model.fit(X, y)\n",
        "\n",
        "#calculate R-squared of regression model (icu covid agaisnt new death)\n",
        "r_squared = model.score(X, y)\n",
        "print(\"R-squared= {:.3f}\".format(r_squared))\n",
        "## R-squared= 0.712; moderately strong"
      ],
      "metadata": {
        "id": "eNFYejnQ3Tfv"
      },
      "execution_count": null,
      "outputs": []
    },
    {
      "cell_type": "code",
      "source": [
        "#Regression model of new death and new cases[overall]\n",
        "p=sns.regplot(seven_days_mean_variant, x='cases_new', y='deaths_new', ci=None, line_kws = {\"color\": \"blue\"})\n",
        "#calculate slope and intercept of regression equation\n",
        "slope, intercept, r, p, sterr = scipy.stats.linregress(x=p.get_lines()[0].get_xdata(),\n",
        "                                                       y=p.get_lines()[0].get_ydata())\n",
        "#display slope and intercept of regression equation\n",
        "print(f\"intercept:{intercept:.3f}, slope:{slope:.3f}\")\n",
        "\n",
        "#add regression equation to plot (#2, #95 represents the coordinate to display the equation )\n",
        "plt.text(2, 150, 'y = ' + str(round(intercept,3)) + ' + ' + str(round(slope,3)) + 'x')\n",
        "\n",
        "\n",
        "# Add title\n",
        "plt.title('New_deaths against New_cases')\n",
        "plt.show()\n"
      ],
      "metadata": {
        "id": "gbH344ha5dXN"
      },
      "execution_count": null,
      "outputs": []
    },
    {
      "cell_type": "code",
      "source": [
        "#R-squared of regression model (new death against new cases)\n",
        "#initiate linear regression model\n",
        "model = LinearRegression()\n",
        "\n",
        "#define predictor and response variables\n",
        "X, y = seven_days_mean_variant[['cases_new']], seven_days_mean_variant.deaths_new\n",
        "\n",
        "#fit regression model\n",
        "model.fit(X, y)\n",
        "\n",
        "#calculate R-squared of regression model\n",
        "r_squared = model.score(X, y)\n",
        "print(\"R-squared= {:.3f}\".format(r_squared))\n",
        "\n",
        "## R-squared= 0.5; fair"
      ],
      "metadata": {
        "id": "dmpB2aCD5kmC"
      },
      "execution_count": null,
      "outputs": []
    },
    {
      "cell_type": "code",
      "source": [
        "## Create a scatter plot between new cases and icu covid (other variant)\n",
        "#time period = 2020-01-25 - 2021-06-05\n",
        "other_icu= seven_days_mean_variant.loc[seven_days_mean_variant['date'].between('2020-01-25','2021-06-05')]\n",
        "p=sns.regplot(other_icu, x='cases_new', y='icu_covid', ci=None, line_kws = {\"color\": \"blue\"})\n",
        "\n",
        "# Calculate the slope and intercept of the regression equation along with confidence intervals\n",
        "slope, intercept, r, p, sterr = scipy.stats.linregress(x=other_icu['cases_new'], y=other_icu['icu_covid'])\n",
        "\n",
        "# Get the standard error of the slope\n",
        "stderr_slope = sterr\n",
        "\n",
        "#display slope and intercept of regression equation\n",
        "print(f\"intercept:{intercept:.3f}, slope:{slope:.3f}\")\n",
        "\n",
        "# Calculate the confidence interval for the slope (95% confidence interval)\n",
        "#z-value at 95% confidence interval= 1.96\n",
        "z_value=1.96\n",
        "confidence_interval = z_value* stderr_slope\n",
        "\n",
        "\n",
        "# Display the slope, intercept, and confidence interval of the regression equation\n",
        "print(f\"95% Confidence Interval for Slope: [{slope - confidence_interval:.3f}, {slope + confidence_interval:.3f}]\")\n",
        "\n",
        "\n",
        "#add regression equation to plot (#2, #95 represents the coordinate to display the equation )\n",
        "plt.text(80, 600, 'y = ' + str(round(intercept,3)) + ' + ' + str(round(slope,3)) + 'x')\n",
        "\n",
        "\n",
        "# Add title\n",
        "plt.title('ICU_covid against New_cases (Other Variant)')\n",
        "plt.show()\n"
      ],
      "metadata": {
        "id": "FZbOSrIh5oNm"
      },
      "execution_count": null,
      "outputs": []
    },
    {
      "cell_type": "code",
      "source": [
        "#R-squared of regression model(other; icu covid against new cases)\n",
        "#initiate linear regression model\n",
        "model = LinearRegression()\n",
        "\n",
        "#define predictor and response variables\n",
        "X, y = other_icu[['cases_new']], other_icu.icu_covid\n",
        "\n",
        "#fit regression model\n",
        "model.fit(X, y)\n",
        "\n",
        "#calculate R-squared of regression model\n",
        "r_squared = model.score(X, y)\n",
        "print(\"R-squared= {:.3f}\".format(r_squared))\n",
        "## R-squared= 0.941; strong"
      ],
      "metadata": {
        "id": "DVRr6iJz5qqV"
      },
      "execution_count": null,
      "outputs": []
    },
    {
      "cell_type": "code",
      "source": [
        "## Create a scatter plot between new cases and new death (other variant)\n",
        "#time period = 2020-01-25 - 2021-06-05\n",
        "other_death= seven_days_mean_variant.loc[seven_days_mean_variant['date'].between('2020-01-25','2021-06-05')]\n",
        "p=sns.regplot(other_death, x='cases_new', y='deaths_new', ci=None, line_kws = {\"color\": \"blue\"})\n",
        "\n",
        "# Calculate the slope and intercept of the regression equation along with confidence intervals\n",
        "slope, intercept, r, p, sterr = scipy.stats.linregress(x=other_death['cases_new'], y=other_death['deaths_new'])\n",
        "\n",
        "# Get the standard error of the slope\n",
        "stderr_slope = sterr\n",
        "\n",
        "#display slope and intercept of regression equation\n",
        "print(f\"intercept:{intercept:.3f}, slope:{slope:.3f}\")\n",
        "\n",
        "# Calculate the confidence interval for the slope (95% confidence interval)\n",
        "#z-value at 95% confidence interval= 1.96\n",
        "z_value=1.96\n",
        "confidence_interval = z_value* stderr_slope\n",
        "\n",
        "# Display the slope, intercept, and confidence interval of the regression equation\n",
        "print(f\"95% Confidence Interval for Slope: [{slope - confidence_interval:.3f}, {slope + confidence_interval:.3f}]\")\n",
        "\n",
        "#add regression equation to plot (#2, #95 represents the coordinate to display the equation )\n",
        "plt.text(80, 30, 'y = ' + str(round(intercept,3)) + ' + ' + str(round(slope,3)) + 'x')\n",
        "\n",
        "\n",
        "# Add title\n",
        "plt.title('New_deaths against New_cases (Other Variant)')\n",
        "plt.show()"
      ],
      "metadata": {
        "id": "rtzag_JB9RAt"
      },
      "execution_count": null,
      "outputs": []
    },
    {
      "cell_type": "code",
      "source": [
        "#R-squared of regression model (other variant; new death against new cases)\n",
        "#initiate linear regression model\n",
        "model = LinearRegression()\n",
        "\n",
        "#define predictor and response variables\n",
        "X, y = other_death[['cases_new']], other_death.deaths_new\n",
        "\n",
        "#fit regression model\n",
        "model.fit(X, y)\n",
        "\n",
        "#calculate R-squared of regression model\n",
        "r_squared = model.score(X, y)\n",
        "print(\"R-squared= {:.3f}\".format(r_squared))\n",
        "## R-squared= 0.762; moderately strong"
      ],
      "metadata": {
        "id": "L2m5asmR9Z7K"
      },
      "execution_count": null,
      "outputs": []
    },
    {
      "cell_type": "code",
      "source": [
        "## Create a scatter plot between new cases and icu covid (beta variant)\n",
        "#time period = 2021-06-12 - 2021-07-03\n",
        "beta_icu= seven_days_mean_variant.loc[seven_days_mean_variant['date'].between('2021-06-12','2021-07-03')]\n",
        "p=sns.regplot(beta_icu, x='cases_new', y='icu_covid', ci=None, line_kws = {\"color\": \"blue\"})\n",
        "\n",
        "# Calculate the slope and intercept of the regression equation along with confidence intervals\n",
        "slope, intercept, r, p, sterr = scipy.stats.linregress(x=beta_icu['cases_new'], y=beta_icu['icu_covid'])\n",
        "\n",
        "# Get the standard error of the slope\n",
        "stderr_slope = sterr\n",
        "\n",
        "#display slope and intercept of regression equation\n",
        "print(f\"intercept:{intercept:.3f}, slope:{slope:.3f}\")\n",
        "\n",
        "# Calculate the confidence interval for the slope (95% confidence interval)\n",
        "#z-value at 95% confidence interval= 1.96\n",
        "z_value=1.96\n",
        "confidence_interval = z_value* stderr_slope\n",
        "\n",
        "# Display the slope, intercept, and confidence interval of the regression equation\n",
        "print(f\"95% Confidence Interval for Slope: [{slope - confidence_interval:.3f}, {slope + confidence_interval:.3f}]\")\n",
        "\n",
        "#add regression equation to plot (#2, #95 represents the coordinate to display the equation )\n",
        "plt.text(5500, 1180, 'y = ' + str(round(intercept,3)) + ' + ' + str(round(slope,3)) + 'x')\n",
        "\n",
        "\n",
        "# Add title\n",
        "plt.title('ICU_covid against New_cases (Beta Variant)')\n",
        "plt.show()"
      ],
      "metadata": {
        "id": "Ou4PB15c9oTm"
      },
      "execution_count": null,
      "outputs": []
    },
    {
      "cell_type": "code",
      "source": [
        "#R-squared of regression model (beta; icu against new cases)\n",
        "#initiate linear regression model\n",
        "model = LinearRegression()\n",
        "\n",
        "#define predictor and response variables\n",
        "X, y = beta_icu[['cases_new']], beta_icu.icu_covid\n",
        "#fit regression model\n",
        "model.fit(X, y)\n",
        "\n",
        "#calculate R-squared of regression model\n",
        "r_squared = model.score(X, y)\n",
        "print(\"R-squared= {:.3f}\".format(r_squared))\n",
        "\n",
        "## R-squared= 0.983; strong\n"
      ],
      "metadata": {
        "id": "fNNKFdkY9whQ"
      },
      "execution_count": null,
      "outputs": []
    },
    {
      "cell_type": "code",
      "source": [
        "## Create a scatter plot between new cases and new death (beta variant)\n",
        "#time period = 2021-06-12 - 2021-07-03\n",
        "beta_death= seven_days_mean_variant.loc[seven_days_mean_variant['date'].between('2021-06-12','2021-07-03')]\n",
        "p=sns.regplot(beta_death, x='cases_new', y='deaths_new', ci=None, line_kws = {\"color\": \"blue\"})\n",
        "\n",
        "# Calculate the slope and intercept of the regression equation along with confidence intervals\n",
        "slope, intercept, r, p, sterr = scipy.stats.linregress(x=beta_death['cases_new'], y=beta_death['deaths_new'])\n",
        "\n",
        "# Get the standard error of the slope\n",
        "stderr_slope = sterr\n",
        "\n",
        "#display slope and intercept of regression equation\n",
        "print(f\"intercept:{intercept:.3f}, slope:{slope:.3f}\")\n",
        "\n",
        "# Calculate the confidence interval for the slope (95% confidence interval)\n",
        "#z-value at 95% confidence interval= 1.96\n",
        "z_value=1.96\n",
        "confidence_interval = z_value* stderr_slope\n",
        "\n",
        "# Display the slope, intercept, and confidence interval of the regression equation\n",
        "print(f\"95% Confidence Interval for Slope: [{slope - confidence_interval:.3f}, {slope + confidence_interval:.3f}]\")\n",
        "\n",
        "\n",
        "#add regression equation to plot (#2, #95 represents the coordinate to display the equation )\n",
        "plt.text(5500, 80, 'y = ' + str(round(intercept,3)) + ' + ' + str(round(slope,3)) + 'x')\n",
        "\n",
        "\n",
        "# Add title\n",
        "plt.title('New_deaths against New_cases (Beta Variant)')\n",
        "plt.show()"
      ],
      "metadata": {
        "id": "OboC6N5o98uW"
      },
      "execution_count": null,
      "outputs": []
    },
    {
      "cell_type": "code",
      "source": [
        "#R-squared of regression model (beta; new death against new cases)\n",
        "#initiate linear regression model\n",
        "model = LinearRegression()\n",
        "\n",
        "#define predictor and response variables\n",
        "X, y = beta_death[['cases_new']], beta_death.deaths_new\n",
        "\n",
        "#fit regression model\n",
        "model.fit(X, y)\n",
        "\n",
        "#calculate R-squared of regression model\n",
        "r_squared = model.score(X, y)\n",
        "print(\"R-squared= {:.3f}\".format(r_squared))\n",
        "\n",
        "## R-squared= 0.854; strong"
      ],
      "metadata": {
        "id": "4Z9nH3Yt-DOm"
      },
      "execution_count": null,
      "outputs": []
    },
    {
      "cell_type": "code",
      "source": [
        "## Create a scatter plot between new cases and new death (delta variant)\n",
        "#time period = 2021-07-10 - 2021-12-18\n",
        "delta_death= seven_days_mean_variant.loc[seven_days_mean_variant['date'].between('2021-07-10','2021-12-18')]\n",
        "p=sns.regplot(delta_death, x='cases_new', y='deaths_new', ci=None, line_kws = {\"color\": \"blue\"})\n",
        "\n",
        "# Calculate the slope and intercept of the regression equation along with confidence intervals\n",
        "slope, intercept, r, p, sterr = scipy.stats.linregress(x=delta_death['cases_new'], y=delta_death['deaths_new'])\n",
        "\n",
        "# Get the standard error of the slope\n",
        "stderr_slope = sterr\n",
        "\n",
        "#display slope and intercept of regression equation\n",
        "print(f\"intercept:{intercept:.3f}, slope:{slope:.3f}\")\n",
        "\n",
        "# Calculate the confidence interval for the slope (95% confidence interval)\n",
        "#z-value at 95% confidence interval= 1.96\n",
        "z_value=1.96\n",
        "confidence_interval = z_value* stderr_slope\n",
        "\n",
        "# Display the slope, intercept, and confidence interval of the regression equation\n",
        "print(f\"95% Confidence Interval for Slope: [{slope - confidence_interval:.3f}, {slope + confidence_interval:.3f}]\")\n",
        "\n",
        "#add regression equation to plot (#2, #95 represents the coordinate to display the equation )\n",
        "plt.text(3000, 150, 'y = ' + str(round(intercept,3)) + ' + ' + str(round(slope,3)) + 'x')\n",
        "\n",
        "\n",
        "# Add title\n",
        "plt.title('New_deaths against New_cases (Delta Variant)')\n",
        "plt.show()"
      ],
      "metadata": {
        "id": "HHduyQhn7igP"
      },
      "execution_count": null,
      "outputs": []
    },
    {
      "cell_type": "code",
      "source": [
        "#R-squared of regression model (delta; new death against new cases)\n",
        "#initiate linear regression model\n",
        "model = LinearRegression()\n",
        "\n",
        "#define predictor and response variables\n",
        "X, y = delta_death[['cases_new']], delta_death.deaths_new\n",
        "\n",
        "#fit regression model\n",
        "model.fit(X, y)\n",
        "\n",
        "#calculate R-squared of regression model\n",
        "r_squared = model.score(X, y)\n",
        "print(\"R-squared= {:.3f}\".format(r_squared))\n",
        "\n",
        "## R-squared= 0.791; strong"
      ],
      "metadata": {
        "id": "gaG7a3Xg7pH-"
      },
      "execution_count": null,
      "outputs": []
    },
    {
      "cell_type": "code",
      "source": [
        "## Create a scatter plot between new cases and icu (omicron variant)\n",
        "#time period = 2021-12-25 - 2023-06-24\n",
        "omicron_icu= seven_days_mean_variant.loc[seven_days_mean_variant['date'].between('2021-12-25','2023-06-24')]\n",
        "p=sns.regplot(omicron_icu, x='cases_new', y='icu_covid', ci=None, line_kws = {\"color\": \"blue\"})\n",
        "\n",
        "# Calculate the slope and intercept of the regression equation along with confidence intervals\n",
        "slope, intercept, r, p, sterr = scipy.stats.linregress(x=omicron_icu['cases_new'], y=omicron_icu['icu_covid'])\n",
        "\n",
        "# Get the standard error of the slope\n",
        "stderr_slope = sterr\n",
        "\n",
        "#display slope and intercept of regression equation\n",
        "print(f\"intercept:{intercept:.3f}, slope:{slope:.3f}\")\n",
        "\n",
        "# Calculate the confidence interval for the slope (95% confidence interval)\n",
        "#z-value at 95% confidence interval= 1.96\n",
        "z_value=1.96\n",
        "confidence_interval = z_value* stderr_slope\n",
        "\n",
        "# Display the slope, intercept, and confidence interval of the regression equation\n",
        "print(f\"95% Confidence Interval for Slope: [{slope - confidence_interval:.3f}, {slope + confidence_interval:.3f}]\")\n",
        "\n",
        "#add regression equation to plot (#2, #95 represents the coordinate to display the equation )\n",
        "plt.text(5000, 350, 'y = ' + str(round(intercept,3)) + ' + ' + str(round(slope,3)) + 'x')\n",
        "\n",
        "\n",
        "# Add title\n",
        "plt.title('ICU_Covid against New_cases (Omicron Variant)')"
      ],
      "metadata": {
        "id": "LH0lXVa67z8b"
      },
      "execution_count": null,
      "outputs": []
    },
    {
      "cell_type": "code",
      "source": [
        "#R-squared of regression model (omicron; icu against new cases)\n",
        "#initiate linear regression model\n",
        "model = LinearRegression()\n",
        "\n",
        "#define predictor and response variables\n",
        "X, y = omicron_icu[['cases_new']], omicron_icu.icu_covid\n",
        "#fit regression model\n",
        "model.fit(X, y)\n",
        "\n",
        "#calculate R-squared of regression model\n",
        "r_squared = model.score(X, y)\n",
        "print(\"R-squared= {:.3f}\".format(r_squared))\n",
        "\n",
        "## R-squared= 0.732; strong"
      ],
      "metadata": {
        "id": "OUg4wnmA75qR"
      },
      "execution_count": null,
      "outputs": []
    },
    {
      "cell_type": "code",
      "source": [
        "## Create a scatter plot between new cases and new death (omicron variant)\n",
        "#time period = 2021-12-25 - 2023-06-24\n",
        "omicron_death= seven_days_mean_variant.loc[seven_days_mean_variant['date'].between('2021-12-25','2023-06-24')]\n",
        "p=sns.regplot(omicron_death, x='cases_new', y='deaths_new', ci=None, line_kws = {\"color\": \"blue\"})\n",
        "\n",
        "# Calculate the slope and intercept of the regression equation along with confidence intervals\n",
        "slope, intercept, r, p, sterr = scipy.stats.linregress(x=omicron_death['cases_new'], y=omicron_death['deaths_new'])\n",
        "\n",
        "# Get the standard error of the slope\n",
        "stderr_slope = sterr\n",
        "\n",
        "#display slope and intercept of regression equation\n",
        "print(f\"intercept:{intercept:.3f}, slope:{slope:.3f}\")\n",
        "\n",
        "# Calculate the confidence interval for the slope (95% confidence interval)\n",
        "#z-value at 95% confidence interval= 1.96\n",
        "z_value=1.96\n",
        "confidence_interval = z_value* stderr_slope\n",
        "\n",
        "# Display the slope, intercept, and confidence interval of the regression equation\n",
        "print(f\"95% Confidence Interval for Slope: [{slope - confidence_interval:.3f}, {slope + confidence_interval:.3f}]\")\n",
        "#add regression equation to plot (#2, #95 represents the coordinate to display the equation )\n",
        "plt.text(60, 70, 'y = ' + str(round(intercept,3)) + ' + ' + str(round(slope,3)) + 'x')\n",
        "\n",
        "\n",
        "# Add title\n",
        "plt.title('New_deaths against New_cases (Omicron Variant)')"
      ],
      "metadata": {
        "id": "qB1dYO2s7-9U"
      },
      "execution_count": null,
      "outputs": []
    },
    {
      "cell_type": "code",
      "source": [
        "#R-squared of regression model (omicron; new death against new cases)\n",
        "#initiate linear regression model\n",
        "model = LinearRegression()\n",
        "\n",
        "#define predictor and response variables\n",
        "X, y = omicron_death[['cases_new']], omicron_death.deaths_new\n",
        "\n",
        "#fit regression model\n",
        "model.fit(X, y)\n",
        "\n",
        "#calculate R-squared of regression model\n",
        "r_squared = model.score(X, y)\n",
        "print(\"R-squared= {:.3f}\".format(r_squared))\n",
        "\n",
        "## R-squared= 0.830; strong"
      ],
      "metadata": {
        "id": "sByhu_4_8Ewd"
      },
      "execution_count": null,
      "outputs": []
    }
  ]
}