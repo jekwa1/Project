{
  "nbformat": 4,
  "nbformat_minor": 0,
  "metadata": {
    "colab": {
      "provenance": [],
      "include_colab_link": true
    },
    "kernelspec": {
      "name": "python3",
      "display_name": "Python 3"
    },
    "language_info": {
      "name": "python"
    }
  },
  "cells": [
    {
      "cell_type": "markdown",
      "metadata": {
        "id": "view-in-github",
        "colab_type": "text"
      },
      "source": [
        "<a href=\"https://colab.research.google.com/github/jekwa1/Project/blob/main/GroupProject.ipynb\" target=\"_parent\"><img src=\"https://colab.research.google.com/assets/colab-badge.svg\" alt=\"Open In Colab\"/></a>"
      ]
    },
    {
      "cell_type": "code",
      "source": [
        "import pandas as pd\n",
        "import seaborn as sns\n",
        "import matplotlib.pyplot as plt"
      ],
      "metadata": {
        "id": "ZeB8QayBrRBg"
      },
      "execution_count": null,
      "outputs": []
    },
    {
      "cell_type": "code",
      "source": [
        "#mount to drive\n",
        "from google.colab import drive\n",
        "drive.mount('/content/drive')"
      ],
      "metadata": {
        "id": "kTaAQvdVURfv",
        "outputId": "8b823d21-25be-43de-9ebe-5d1dcd0ecbb1",
        "colab": {
          "base_uri": "https://localhost:8080/"
        }
      },
      "execution_count": null,
      "outputs": [
        {
          "output_type": "stream",
          "name": "stdout",
          "text": [
            "Mounted at /content/drive\n"
          ]
        }
      ]
    },
    {
      "cell_type": "code",
      "source": [
        "#load cases_malaysia csv file using Pandas\n",
        "folder = '/content/drive/My Drive/HIAProject302/'\n",
        "filename_1 = folder+'cases_malaysia.csv'\n",
        "case_my= pd.read_csv(filename_1)\n",
        "\n",
        "#load deaths_malaysia csv file using Pandas\n",
        "folder = '/content/drive/My Drive/HIAProject302/'\n",
        "filename_2 = folder+'deaths_malaysia.csv'\n",
        "death_my= pd.read_csv(filename_2)\n",
        "\n",
        "#load icu csv file using Pandas\n",
        "folder = '/content/drive/My Drive/HIAProject302/'\n",
        "filename_3 = folder+'icu.csv'\n",
        "icu_my= pd.read_csv(filename_3)\n"
      ],
      "metadata": {
        "id": "j4DB8V6SUWOv"
      },
      "execution_count": null,
      "outputs": []
    },
    {
      "cell_type": "markdown",
      "source": [
        "Verifying Datasets (case_malaysia.csv), (death_malaysia.csv) and (icu.csv)"
      ],
      "metadata": {
        "id": "3nVDVVn8MKI4"
      }
    },
    {
      "cell_type": "code",
      "source": [
        "#Check null in case_my\n",
        "case_my.isnull().sum()\n",
        "\n",
        "#Check null in death_my\n",
        "death_my.isnull().sum()\n",
        "\n",
        "#Check null in icu_my\n",
        "icu_my.isnull().sum()"
      ],
      "metadata": {
        "id": "eIh6jR7JwT7B"
      },
      "execution_count": null,
      "outputs": []
    },
    {
      "cell_type": "markdown",
      "source": [
        "Selecting required variables from each datasets"
      ],
      "metadata": {
        "id": "tQTreyDFMlOs"
      }
    },
    {
      "cell_type": "code",
      "source": [
        "#Select interested column in case_my\n",
        "case_my_new =case_my.loc[:,['date','cases_new','cases_0_4', 'cases_5_11', 'cases_12_17',\n",
        "'cases_18_29', 'cases_30_39', 'cases_40_49', 'cases_50_59',\n",
        "'cases_60_69', 'cases_70_79', 'cases_80']]\n",
        "print(case_my_new)\n",
        "print(case_my_new.columns)\n",
        "#check null value\n",
        "case_my_new.isnull().sum()\n",
        "\n"
      ],
      "metadata": {
        "id": "XWikw_K7wlfh"
      },
      "execution_count": null,
      "outputs": []
    },
    {
      "cell_type": "code",
      "source": [
        "#Select interested column in death_my\n",
        "death_my_new = death_my.loc[:,['date','deaths_new']]\n",
        "print(death_my_new)\n",
        "print(death_my_new.columns)\n",
        "#check null value\n",
        "death_my_new.isnull().sum()\n",
        "\n"
      ],
      "metadata": {
        "id": "yvgO_WnPN_fx"
      },
      "execution_count": null,
      "outputs": []
    },
    {
      "cell_type": "code",
      "source": [
        "#Select interested column in icu_my\n",
        "icu_my_new = icu_my.loc[:,['date','icu_covid']]\n",
        "icu_my_new_group = icu_my_new.groupby('date')['icu_covid'].sum().reset_index()\n",
        "print(icu_my_new_group)\n",
        "#check null value\n",
        "icu_my_new_group.isnull().sum()"
      ],
      "metadata": {
        "id": "prQBvbD8OCzQ"
      },
      "execution_count": null,
      "outputs": []
    },
    {
      "cell_type": "markdown",
      "source": [
        "Creating new dataframe (my_covid) - Merging datasets (based on date)"
      ],
      "metadata": {
        "id": "tqfezTwkM3OC"
      }
    },
    {
      "cell_type": "code",
      "source": [
        "# Ensuring formate of date - datetime type\n",
        "case_my_new['date'] = pd.to_datetime(case_my_new['date'])\n",
        "death_my_new['date'] = pd.to_datetime(death_my_new['date'])\n",
        "icu_my_new_group['date'] = pd.to_datetime(icu_my_new_group['date'])\n",
        "\n",
        "# Merge DataFrames\n",
        "my_covid = pd.merge(case_my_new, death_my_new, on='date', how='outer')\n",
        "my_covid = pd.merge(my_covid, icu_my_new_group, on='date', how='outer')\n",
        "\n",
        "# Sort DataFrame by 'date'\n",
        "my_covid = my_covid.sort_values(by='date')\n",
        "\n",
        "# Fill NaN values with 0\n",
        "my_covid = my_covid.fillna(0)\n",
        "\n"
      ],
      "metadata": {
        "id": "dnUbOi5lG-qQ"
      },
      "execution_count": null,
      "outputs": []
    },
    {
      "cell_type": "markdown",
      "source": [
        "Validating new data frame (my_covid)"
      ],
      "metadata": {
        "id": "pGKVdkMmNLhg"
      }
    },
    {
      "cell_type": "code",
      "source": [
        "## Validation\n",
        "print(my_covid)\n",
        "print(my_covid.isnull().sum())\n",
        "\n",
        "num_rows, num_columns = my_covid.shape\n",
        "print(f\"Number of Rows: {num_rows}\")\n",
        "print(f\"Number of Columns: {num_columns}\")\n",
        "\n",
        "# Ensuring formate of date - datetime type\n",
        "print(my_covid.dtypes)\n",
        "# my_covid['date'] = pd.to_datetime(my_covid['date'])\n",
        "\n",
        "my_covid.to_csv('my_covid.csv', index=False)"
      ],
      "metadata": {
        "id": "SToX1rC0NMTw"
      },
      "execution_count": null,
      "outputs": []
    },
    {
      "cell_type": "markdown",
      "source": [
        "Creating new dataframe based on 7 days aggregate (sum) and filtered for date (01/01/2020 - 30/06/2023) = my_covid_group"
      ],
      "metadata": {
        "id": "YzfDarpLPFk6"
      }
    },
    {
      "cell_type": "code",
      "source": [
        "# Filtering based on date (01/01/2000 - 30/06/2023)\n",
        "start_date = '2000-01-01'\n",
        "end_date = '2023-06-30'\n",
        "\n",
        "date_mask = (my_covid['date'] >= start_date) & (my_covid['date'] <= end_date)\n",
        "filtered_my_covid = my_covid[date_mask].copy()  # Make a copy to avoid SettingWithCopyWarning\n",
        "\n",
        "# Save the filtered dataframe with 'date' column\n",
        "filtered_my_covid.to_csv('filtered_my_covid.csv', index=False)\n",
        "\n",
        "# New dataframe based on 7 days aggregate (sum) = my_covid_group\n",
        "\n",
        "filtered_my_covid['date'] = pd.to_datetime(filtered_my_covid['date'])\n",
        "filtered_my_covid.set_index('date', inplace=True)\n",
        "\n",
        "my_covid_group = filtered_my_covid.resample('7D').sum()\n",
        "my_covid_group.reset_index(inplace=True)\n",
        "print(my_covid_group)\n",
        "\n",
        "my_covid_group.to_csv('my_covid_group.csv', index=False)"
      ],
      "metadata": {
        "id": "gGfcKDuVPgcd"
      },
      "execution_count": null,
      "outputs": []
    },
    {
      "cell_type": "markdown",
      "source": [
        "Create new dataframe based on 7-days average (mean)= seven_days_mean and validate"
      ],
      "metadata": {
        "id": "Wtu2u1KzPqV0"
      }
    },
    {
      "cell_type": "code",
      "source": [
        "seven_days_mean = filtered_my_covid.resample('7D').mean()\n",
        "seven_days_mean = seven_days_mean.round(2)\n",
        "seven_days_mean.reset_index(inplace=True)\n",
        "\n",
        "## Validation\n",
        "print(seven_days_mean)\n",
        "print(seven_days_mean.isnull().sum())\n",
        "\n",
        "seven_days_mean.to_csv('seven_days_mean.csv', index=False)\n",
        "print(seven_days_mean.columns)"
      ],
      "metadata": {
        "id": "Nwp7mnlTP0RP"
      },
      "execution_count": null,
      "outputs": []
    },
    {
      "cell_type": "markdown",
      "source": [
        "Creating working data frame from seven_days_mean and factoring in predominant circulating COVID-19 variant"
      ],
      "metadata": {
        "id": "_Aq-z77hQEmx"
      }
    },
    {
      "cell_type": "code",
      "source": [
        "# New dataframe:seven_days_mean_variant (this with predominant circulating variant)\n",
        "\n",
        "seven_days_mean_variant = seven_days_mean.copy()\n",
        "\n",
        "# Create a new column 'prominent_variant'\n",
        "seven_days_mean_variant['prominent_variant'] = pd.cut(\n",
        "    seven_days_mean_variant['date'],\n",
        "    bins=[pd.to_datetime('2000-01-01'), pd.to_datetime('2021-06-08'), pd.to_datetime('2021-07-05'), pd.to_datetime('2021-12-20'), pd.to_datetime('2100-01-01')],\n",
        "    labels=['other', 'beta', 'delta', 'omicron'],\n",
        "    right=False\n",
        ")\n",
        "\n",
        "## Validation\n",
        "print(seven_days_mean_variant)\n",
        "print(seven_days_mean_variant.isnull().sum())\n",
        "\n",
        "print(seven_days_mean_variant.head())\n",
        "seven_days_mean_variant.to_csv('seven_days_mean_variant.csv', index=False)"
      ],
      "metadata": {
        "id": "WEH0wJvmQV6U"
      },
      "execution_count": null,
      "outputs": []
    },
    {
      "cell_type": "markdown",
      "source": [
        "Statistical Analysis"
      ],
      "metadata": {
        "id": "KUXdpJ91G_WE"
      }
    },
    {
      "cell_type": "code",
      "source": [
        "#Create a pie chart for prominent variant\n",
        "seven_days_mean_variant['prominent_variant'].value_counts().plot(kind='pie',autopct=\"%.2f%%\")\n"
      ],
      "metadata": {
        "id": "68zFg33lG5_e"
      },
      "execution_count": null,
      "outputs": []
    }
  ]
}