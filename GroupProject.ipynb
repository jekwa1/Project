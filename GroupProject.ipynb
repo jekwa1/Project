{
  "nbformat": 4,
  "nbformat_minor": 0,
  "metadata": {
    "colab": {
      "provenance": [],
      "include_colab_link": true
    },
    "kernelspec": {
      "name": "python3",
      "display_name": "Python 3"
    },
    "language_info": {
      "name": "python"
    }
  },
  "cells": [
    {
      "cell_type": "markdown",
      "metadata": {
        "id": "view-in-github",
        "colab_type": "text"
      },
      "source": [
        "<a href=\"https://colab.research.google.com/github/jekwa1/Project/blob/main/GroupProject.ipynb\" target=\"_parent\"><img src=\"https://colab.research.google.com/assets/colab-badge.svg\" alt=\"Open In Colab\"/></a>"
      ]
    },
    {
      "cell_type": "code",
      "source": [
        "!pip install numerizer"
      ],
      "metadata": {
        "id": "-TY3HVdR5x_b",
        "colab": {
          "base_uri": "https://localhost:8080/"
        },
        "outputId": "ea084fca-5891-436e-e901-8fe95e07a7ac"
      },
      "execution_count": 14,
      "outputs": [
        {
          "output_type": "stream",
          "name": "stdout",
          "text": [
            "Requirement already satisfied: numerizer in /usr/local/lib/python3.10/dist-packages (0.2.3)\n"
          ]
        }
      ]
    },
    {
      "cell_type": "code",
      "source": [
        "#Libraries\n",
        "import pandas as pd\n",
        "import matplotlib.pyplot as plt\n",
        "import numpy as np\n",
        "import seaborn as sns\n",
        "from numerizer import numerize\n",
        "import scipy\n",
        "import scipy.stats as stats\n",
        "from sklearn.linear_model import LinearRegression"
      ],
      "metadata": {
        "id": "ZeB8QayBrRBg"
      },
      "execution_count": 15,
      "outputs": []
    },
    {
      "cell_type": "code",
      "source": [
        "\n",
        "# GitHub repository URL and file names\n",
        "base_url = 'https://github.com/jekwa1/covid19-public/raw/main/epidemic/'\n",
        "file_names = ['cases_malaysia.csv', 'deaths_malaysia.csv', 'icu.csv']\n",
        "\n",
        "# Create a folder and download files\n",
        "os.makedirs('covid_data', exist_ok=True)\n",
        "[open(f'covid_data/{file_name}', 'wb').write(requests.get(f'{base_url}{file_name}').content) for file_name in file_names]\n",
        "\n",
        "print('Files downloaded successfully.')\n",
        "\n",
        "# Load files into DataFrames and print\n",
        "file_mapping = {'case_my': 'cases_malaysia.csv', 'death_my': 'deaths_malaysia.csv', 'icu_my': 'icu.csv'}\n",
        "data_frames = {label: pd.read_csv(f'covid_data/{file_name}') for label, file_name in file_mapping.items()}\n",
        "\n",
        "[print(f'{label} DataFrame:\\n{df.head()}\\n{\"-\"*50}\\n') for label, df in data_frames.items()]"
      ],
      "metadata": {
        "id": "VsR-SakCvP_f",
        "colab": {
          "base_uri": "https://localhost:8080/",
          "height": 250
        },
        "outputId": "08780e3b-e4a3-4fd1-d6fe-bcf21116a29a"
      },
      "execution_count": 16,
      "outputs": [
        {
          "output_type": "error",
          "ename": "NameError",
          "evalue": "ignored",
          "traceback": [
            "\u001b[0;31m---------------------------------------------------------------------------\u001b[0m",
            "\u001b[0;31mNameError\u001b[0m                                 Traceback (most recent call last)",
            "\u001b[0;32m<ipython-input-16-99c489afad59>\u001b[0m in \u001b[0;36m<cell line: 6>\u001b[0;34m()\u001b[0m\n\u001b[1;32m      4\u001b[0m \u001b[0;34m\u001b[0m\u001b[0m\n\u001b[1;32m      5\u001b[0m \u001b[0;31m# Create a folder and download files\u001b[0m\u001b[0;34m\u001b[0m\u001b[0;34m\u001b[0m\u001b[0m\n\u001b[0;32m----> 6\u001b[0;31m \u001b[0mos\u001b[0m\u001b[0;34m.\u001b[0m\u001b[0mmakedirs\u001b[0m\u001b[0;34m(\u001b[0m\u001b[0;34m'covid_data'\u001b[0m\u001b[0;34m,\u001b[0m \u001b[0mexist_ok\u001b[0m\u001b[0;34m=\u001b[0m\u001b[0;32mTrue\u001b[0m\u001b[0;34m)\u001b[0m\u001b[0;34m\u001b[0m\u001b[0;34m\u001b[0m\u001b[0m\n\u001b[0m\u001b[1;32m      7\u001b[0m \u001b[0;34m[\u001b[0m\u001b[0mopen\u001b[0m\u001b[0;34m(\u001b[0m\u001b[0;34mf'covid_data/{file_name}'\u001b[0m\u001b[0;34m,\u001b[0m \u001b[0;34m'wb'\u001b[0m\u001b[0;34m)\u001b[0m\u001b[0;34m.\u001b[0m\u001b[0mwrite\u001b[0m\u001b[0;34m(\u001b[0m\u001b[0mrequests\u001b[0m\u001b[0;34m.\u001b[0m\u001b[0mget\u001b[0m\u001b[0;34m(\u001b[0m\u001b[0;34mf'{base_url}{file_name}'\u001b[0m\u001b[0;34m)\u001b[0m\u001b[0;34m.\u001b[0m\u001b[0mcontent\u001b[0m\u001b[0;34m)\u001b[0m \u001b[0;32mfor\u001b[0m \u001b[0mfile_name\u001b[0m \u001b[0;32min\u001b[0m \u001b[0mfile_names\u001b[0m\u001b[0;34m]\u001b[0m\u001b[0;34m\u001b[0m\u001b[0;34m\u001b[0m\u001b[0m\n\u001b[1;32m      8\u001b[0m \u001b[0;34m\u001b[0m\u001b[0m\n",
            "\u001b[0;31mNameError\u001b[0m: name 'os' is not defined"
          ]
        }
      ]
    },
    {
      "cell_type": "code",
      "source": [
        "#mount to drive\n",
        "from google.colab import drive\n",
        "drive.mount('/content/drive')"
      ],
      "metadata": {
        "id": "kTaAQvdVURfv"
      },
      "execution_count": null,
      "outputs": []
    },
    {
      "cell_type": "code",
      "source": [
        "#load cases_malaysia csv file using Pandas\n",
        "folder = '/content/drive/My Drive/HIAProject302/'\n",
        "filename_1 = folder+'cases_malaysia.csv'\n",
        "case_my= pd.read_csv(filename_1)\n",
        "\n",
        "#load deaths_malaysia csv file using Pandas\n",
        "folder = '/content/drive/My Drive/HIAProject302/'\n",
        "filename_2 = folder+'deaths_malaysia.csv'\n",
        "death_my= pd.read_csv(filename_2)\n",
        "\n",
        "#load icu csv file using Pandas\n",
        "folder = '/content/drive/My Drive/HIAProject302/'\n",
        "filename_3 = folder+'icu.csv'\n",
        "icu_my= pd.read_csv(filename_3)\n"
      ],
      "metadata": {
        "id": "j4DB8V6SUWOv"
      },
      "execution_count": null,
      "outputs": []
    },
    {
      "cell_type": "markdown",
      "source": [
        "Verifying Datasets (case_malaysia.csv), (death_malaysia.csv) and (icu.csv)"
      ],
      "metadata": {
        "id": "3nVDVVn8MKI4"
      }
    },
    {
      "cell_type": "code",
      "source": [
        "#Check null in case_my\n",
        "case_my.isnull().sum()\n",
        "\n",
        "#Check null in death_my\n",
        "death_my.isnull().sum()\n",
        "\n",
        "#Check null in icu_my\n",
        "icu_my.isnull().sum()"
      ],
      "metadata": {
        "id": "eIh6jR7JwT7B"
      },
      "execution_count": null,
      "outputs": []
    },
    {
      "cell_type": "markdown",
      "source": [
        "Selecting required variables from each datasets"
      ],
      "metadata": {
        "id": "tQTreyDFMlOs"
      }
    },
    {
      "cell_type": "code",
      "source": [
        "#Select interested column in case_my\n",
        "case_my_new =case_my.loc[:,['date','cases_new','cases_0_4', 'cases_5_11', 'cases_12_17',\n",
        "'cases_18_29', 'cases_30_39', 'cases_40_49', 'cases_50_59',\n",
        "'cases_60_69', 'cases_70_79', 'cases_80']]\n",
        "print(case_my_new)\n",
        "print(case_my_new.columns)\n",
        "#check null value\n",
        "case_my_new.isnull().sum()\n",
        "case_my_new.info()\n"
      ],
      "metadata": {
        "id": "XWikw_K7wlfh"
      },
      "execution_count": null,
      "outputs": []
    },
    {
      "cell_type": "code",
      "source": [
        "#Select interested column in death_my\n",
        "death_my_new = death_my.loc[:,['date','deaths_new']]\n",
        "print(death_my_new)\n",
        "print(death_my_new.columns)\n",
        "#check null value\n",
        "death_my_new.isnull().sum()\n",
        "death_my_new.info()\n"
      ],
      "metadata": {
        "id": "yvgO_WnPN_fx"
      },
      "execution_count": null,
      "outputs": []
    },
    {
      "cell_type": "code",
      "source": [
        "#Select interested column in icu_my\n",
        "icu_my_new = icu_my.loc[:,['date','icu_covid']]\n",
        "icu_my_new_group = icu_my_new.groupby('date')['icu_covid'].sum().reset_index()\n",
        "print(icu_my_new_group)\n",
        "#check null value\n",
        "icu_my_new_group.isnull().sum()\n",
        "icu_my_new.info()"
      ],
      "metadata": {
        "id": "prQBvbD8OCzQ"
      },
      "execution_count": null,
      "outputs": []
    },
    {
      "cell_type": "markdown",
      "source": [
        "Creating new dataframe (my_covid) - Merging datasets (based on date)"
      ],
      "metadata": {
        "id": "tqfezTwkM3OC"
      }
    },
    {
      "cell_type": "code",
      "source": [
        "# Ensuring formate of date - datetime type\n",
        "case_my_new['date'] = pd.to_datetime(case_my_new['date'])\n",
        "death_my_new['date'] = pd.to_datetime(death_my_new['date'])\n",
        "icu_my_new_group['date'] = pd.to_datetime(icu_my_new_group['date'])\n",
        "\n",
        "# Merge DataFrames\n",
        "my_covid = pd.merge(case_my_new, death_my_new, on='date', how='outer')\n",
        "my_covid = pd.merge(my_covid, icu_my_new_group, on='date', how='outer')\n",
        "\n",
        "# Sort DataFrame by 'date'\n",
        "my_covid = my_covid.sort_values(by='date')\n",
        "\n",
        "# Fill NaN values with 0\n",
        "my_covid = my_covid.fillna(0)\n",
        "\n"
      ],
      "metadata": {
        "id": "dnUbOi5lG-qQ"
      },
      "execution_count": null,
      "outputs": []
    },
    {
      "cell_type": "markdown",
      "source": [
        "Validating new data frame (my_covid)"
      ],
      "metadata": {
        "id": "pGKVdkMmNLhg"
      }
    },
    {
      "cell_type": "code",
      "source": [
        "## Validation\n",
        "print(my_covid)\n",
        "print(my_covid.isnull().sum())\n",
        "\n",
        "num_rows, num_columns = my_covid.shape\n",
        "print(f\"Number of Rows: {num_rows}\")\n",
        "print(f\"Number of Columns: {num_columns}\")\n",
        "\n",
        "# Ensuring formate of date - datetime type\n",
        "print(my_covid.dtypes)\n",
        "# my_covid['date'] = pd.to_datetime(my_covid['date'])\n",
        "\n",
        "my_covid.to_csv('my_covid.csv', index=False)"
      ],
      "metadata": {
        "id": "SToX1rC0NMTw"
      },
      "execution_count": null,
      "outputs": []
    },
    {
      "cell_type": "markdown",
      "source": [
        "Creating new dataframe based on 7 days aggregate (sum) and filtered for date (01/01/2020 - 30/06/2023) = my_covid_group"
      ],
      "metadata": {
        "id": "YzfDarpLPFk6"
      }
    },
    {
      "cell_type": "code",
      "source": [
        "# Filtering based on date (01/01/2000 - 30/06/2023)\n",
        "start_date = '2000-01-01'\n",
        "end_date = '2023-06-30'\n",
        "\n",
        "date_mask = (my_covid['date'] >= start_date) & (my_covid['date'] <= end_date)\n",
        "filtered_my_covid = my_covid[date_mask].copy()  # Make a copy to avoid SettingWithCopyWarning\n",
        "\n",
        "# Save the filtered dataframe with 'date' column\n",
        "filtered_my_covid.to_csv('filtered_my_covid.csv', index=False)\n",
        "\n",
        "# New dataframe based on 7 days aggregate (sum) = my_covid_group\n",
        "\n",
        "filtered_my_covid['date'] = pd.to_datetime(filtered_my_covid['date'])\n",
        "filtered_my_covid.set_index('date', inplace=True)\n",
        "\n",
        "my_covid_group = filtered_my_covid.resample('7D').sum()\n",
        "my_covid_group.reset_index(inplace=True)\n",
        "print(my_covid_group)\n",
        "\n",
        "my_covid_group.to_csv('my_covid_group.csv', index=False)"
      ],
      "metadata": {
        "id": "gGfcKDuVPgcd"
      },
      "execution_count": null,
      "outputs": []
    },
    {
      "cell_type": "markdown",
      "source": [
        "Create new dataframe based on 7-days average (mean)= seven_days_mean and validate"
      ],
      "metadata": {
        "id": "Wtu2u1KzPqV0"
      }
    },
    {
      "cell_type": "code",
      "source": [
        "seven_days_mean = filtered_my_covid.resample('7D').mean()\n",
        "seven_days_mean = seven_days_mean.round(2)\n",
        "seven_days_mean.reset_index(inplace=True)\n",
        "\n",
        "## Validation\n",
        "print(seven_days_mean)\n",
        "print(seven_days_mean.isnull().sum())\n",
        "\n",
        "seven_days_mean.to_csv('seven_days_mean.csv', index=False)\n",
        "print(seven_days_mean.columns)"
      ],
      "metadata": {
        "id": "Nwp7mnlTP0RP"
      },
      "execution_count": null,
      "outputs": []
    },
    {
      "cell_type": "markdown",
      "source": [
        "Creating working data frame from seven_days_mean and factoring in predominant circulating COVID-19 variant"
      ],
      "metadata": {
        "id": "_Aq-z77hQEmx"
      }
    },
    {
      "cell_type": "code",
      "source": [
        "# New dataframe:seven_days_mean_variant (this with predominant circulating variant)\n",
        "\n",
        "seven_days_mean_variant = seven_days_mean.copy()\n",
        "\n",
        "# Create a new column 'prominent_variant'\n",
        "seven_days_mean_variant['prominent_variant'] = pd.cut(\n",
        "    seven_days_mean_variant['date'],\n",
        "    bins=[pd.to_datetime('2000-01-01'), pd.to_datetime('2021-06-08'), pd.to_datetime('2021-07-05'), pd.to_datetime('2021-12-20'), pd.to_datetime('2100-01-01')],\n",
        "    labels=['other', 'beta', 'delta', 'omicron'],\n",
        "    right=False\n",
        ")\n",
        "\n",
        "## Validation\n",
        "print(seven_days_mean_variant)\n",
        "print(seven_days_mean_variant.isnull().sum())\n",
        "\n",
        "print(seven_days_mean_variant.head())\n",
        "seven_days_mean_variant.to_csv('seven_days_mean_variant.csv', index=False)"
      ],
      "metadata": {
        "id": "WEH0wJvmQV6U"
      },
      "execution_count": null,
      "outputs": []
    },
    {
      "cell_type": "markdown",
      "source": [
        "Statistical Analysis"
      ],
      "metadata": {
        "id": "KUXdpJ91G_WE"
      }
    },
    {
      "cell_type": "code",
      "source": [
        "\n",
        "from io import StringIO\n",
        "\n",
        "\n",
        "# Push changes to a different GitHub repository\n",
        "new_repo_url = 'https://github.com/jekwa1/Project.git'\n",
        "local_repo_path = '/path/to/Project/'\n",
        "\n",
        "# Copy CSV files to the new repository\n",
        "for file_name in ['my_covid.csv', 'my_covid_group.csv', 'seven_days_mean.csv', 'seven_days_mean_variant.csv']:\n",
        "    response = requests.get(f'{base_url}{file_name}')\n",
        "    with open(os.path.join(local_repo_path, file_name), 'wb') as file:\n",
        "        file.write(response.content)\n",
        "\n",
        "# Change into the repository directory\n",
        "os.chdir(local_repo_path)\n",
        "\n",
        "# Add, commit, and push the changes\n",
        "os.system('git add .')\n",
        "os.system('git commit -m \"Add transformed datasets\"')\n",
        "os.system('git push origin main')\n",
        "\n",
        "print('Files pushed to the new repository successfully.')"
      ],
      "metadata": {
        "id": "UcNOomu1teOU"
      },
      "execution_count": null,
      "outputs": []
    },
    {
      "cell_type": "code",
      "source": [
        "#  #Boxplot\n",
        "numerical_columns = seven_days_mean_variant.select_dtypes(include=[np.number]).columns\n",
        "plt.figure(figsize=(16, 8))\n",
        "for i, column in enumerate(numerical_columns, start=1):\n",
        "    plt.subplot(3, 5, i)\n",
        "    sns.boxplot(x='prominent_variant', y=column, data=seven_days_mean_variant)\n",
        "    plt.title(f'Box Plot for {column}')\n",
        "    plt.xlabel('Prominent Variant')\n",
        "    plt.ylabel(column)\n",
        "\n",
        "plt.tight_layout()\n",
        "plt.show()"
      ],
      "metadata": {
        "id": "LoOCaN7S6T0C"
      },
      "execution_count": null,
      "outputs": []
    },
    {
      "cell_type": "code",
      "source": [
        "# Line graph - New cases , ICU and Deaths with Variant period\n",
        "\n",
        "plt.figure(figsize=(14, 8))\n",
        "\n",
        "# Plotting trends\n",
        "plt.plot(seven_days_mean_variant['date'], seven_days_mean_variant['cases_new'], label='Cases_New', color='blue', linewidth=3.0)\n",
        "plt.plot(seven_days_mean_variant['date'], seven_days_mean_variant['deaths_new'], label='Deaths_New', color='darkgreen', linewidth=3.0)\n",
        "plt.plot(seven_days_mean_variant['date'], seven_days_mean_variant['icu_covid'], label='ICU_COVID', color='purple', linewidth=3.0)\n",
        "\n",
        "# Adding shaded regions for variant periods\n",
        "variant_periods = seven_days_mean_variant[['date', 'prominent_variant']].drop_duplicates()\n",
        "variant_colors = {'other': 'darkcyan', 'beta': 'lime', 'delta': 'gold', 'omicron': 'crimson'}\n",
        "\n",
        "# Create legend handles for variant colors\n",
        "variant_handles = [plt.Line2D([0], [0], marker='o', color=color, label=f'{variant}') for variant, color in variant_colors.items()]\n",
        "\n",
        "# Adding shaded regions for variant periods\n",
        "for i, row in variant_periods.iterrows():\n",
        "    variant_start = row['date']\n",
        "    if i + 1 < len(variant_periods):\n",
        "        variant_end = variant_periods.iloc[i + 1]['date']\n",
        "    else:\n",
        "        variant_end = seven_days_mean_variant['date'].max()\n",
        "\n",
        "    plt.axvspan(variant_start, variant_end, color=variant_colors[row['prominent_variant']], alpha=0.3)\n",
        "\n",
        "# Combine legends for trends and variant colors\n",
        "plt.legend(loc='upper left', bbox_to_anchor=(1, 1), handles=variant_handles + plt.legend().legendHandles)\n",
        "\n",
        "plt.xlabel('Date')\n",
        "plt.ylabel('Count')\n",
        "plt.title('Trends of Cases_New, Deaths_New, and ICU_COVID over Time')\n",
        "\n",
        "plt.tight_layout()\n",
        "plt.show()"
      ],
      "metadata": {
        "id": "V4uhJGNI6tFp"
      },
      "execution_count": null,
      "outputs": []
    },
    {
      "cell_type": "code",
      "source": [
        "# Stacked bar - new cases, icu and death over prominent variance\n",
        "\n",
        "plt.figure(figsize=(14, 8))\n",
        "columns_to_plot = ['cases_new', 'icu_covid', 'deaths_new']\n",
        "melted_data = pd.melt(seven_days_mean_variant, id_vars=['prominent_variant'], value_vars=columns_to_plot, var_name='attribute')\n",
        "\n",
        "sns.barplot(x='prominent_variant', y='value', hue='attribute', data=melted_data, ci=None, palette='viridis', estimator=sum)\n",
        "plt.title('Stacked Bar Chart of New Cases, ICU, and Deaths across Prominent Variants')\n",
        "plt.xlabel('Prominent Variant Period')\n",
        "plt.ylabel('Count')\n",
        "plt.legend(title='Attribute')\n",
        "plt.show()"
      ],
      "metadata": {
        "id": "KqUcFw9rDtoE"
      },
      "execution_count": null,
      "outputs": []
    },
    {
      "cell_type": "code",
      "source": [
        "# Stacked Bar chart - number of new cases per age category over variant predominance\n",
        "\n",
        "plt.figure(figsize=(14, 8))\n",
        "age_group_columns_new_cases = ['cases_0_4', 'cases_5_11', 'cases_12_17', 'cases_18_29', 'cases_30_39',\n",
        "                                'cases_40_49', 'cases_50_59', 'cases_60_69', 'cases_70_79', 'cases_80']\n",
        "\n",
        "melted_data_new_cases = pd.melt(seven_days_mean_variant, id_vars=['prominent_variant'], value_vars=age_group_columns_new_cases, var_name='age_group')\n",
        "\n",
        "sns.barplot(x='prominent_variant', y='value', hue='age_group', data=melted_data_new_cases, ci=None, palette='viridis', estimator=sum)\n",
        "plt.title('Stacked Bar Chart of New Cases across Age Groups and Prominent Variants')\n",
        "plt.xlabel('Prominent Variant Period')\n",
        "plt.ylabel('Number of New Cases')\n",
        "plt.legend(title='Age Group')\n",
        "plt.show()"
      ],
      "metadata": {
        "id": "_pZyEpx-FNCR"
      },
      "execution_count": null,
      "outputs": []
    },
    {
      "cell_type": "code",
      "source": [
        "#count total number of each age category using my_covid_variant dataframe\n",
        "# Get column names\n",
        "columns = ['cases_0_4', 'cases_5_11', 'cases_12_17', 'cases_18_29', 'cases_30_39',\n",
        "                                'cases_40_49', 'cases_50_59', 'cases_60_69', 'cases_70_79', 'cases_80','icu_covid','deaths_new']\n",
        "\n",
        "## count total number of new cases\n",
        "sum_new_cases= my_covid_variant['cases_new'].sum()\n",
        "print(f\"Total new cases:{sum_new_cases:}\")\n",
        "\n",
        "# Calculate sum for each column\n",
        "column_sums = []\n",
        "for col in columns:\n",
        "    col_sum = my_covid_variant[col].sum()\n",
        "    percentage = (col_sum /sum_new_cases ) * 100\n",
        "    column_sums.append([col, col_sum,percentage])\n",
        "    print(f\"Sum of values in column {col}: {col_sum}; {percentage:.2f}%\")\n",
        "    from tabulate import tabulate\n",
        "print(tabulate(column_sums, headers=['Column', 'Total','Percentage'], tablefmt='simple_grid'))\n"
      ],
      "metadata": {
        "id": "MovbCkOn0egP"
      },
      "execution_count": null,
      "outputs": []
    },
    {
      "cell_type": "code",
      "source": [
        "##Group all the variants into resepective timeframe\n",
        "# Count total number of other variant\n",
        "##date = 2020-01-25 - 2021-06-07\n",
        "other = my_covid_variant.loc[my_covid_variant['date'].between('2020-01-25','2021-06-07')]\n",
        "sum_other= other['cases_new'].sum()\n",
        "print(f\"Total number of other variant:{sum_other:}\")\n",
        "\n",
        "# Count total number of beta variant\n",
        "##date = 2021-06-08 - 2021-07-04\n",
        "beta = my_covid_variant.loc[my_covid_variant['date'].between('2021-06-08','2021-07-04')]\n",
        "sum_beta= beta['cases_new'].sum()\n",
        "print(f\"Total number of beta variant:{sum_beta:}\")\n",
        "\n",
        "# Count total number of delta variant\n",
        "##date = 2021-07-05 - 2021-12-20\n",
        "delta = my_covid_variant.loc[my_covid_variant['date'].between('2021-07-05','2021-12-20')]\n",
        "sum_delta= delta['cases_new'].sum()\n",
        "print(f\"Total number of delta variant:{sum_delta:}\")\n",
        "\n",
        "# Count total number of omicron variant\n",
        "##date = 2021-12-21 - 2023-06-30\n",
        "micron = my_covid_variant.loc[my_covid_variant['date'].between('2021-12-21','2023-06-30')]\n",
        "sum_omicron= micron['cases_new'].sum()\n",
        "print(f\"Total number of omicron variant{sum_omicron:}\")"
      ],
      "metadata": {
        "id": "XTHegsHT02pU"
      },
      "execution_count": null,
      "outputs": []
    },
    {
      "cell_type": "code",
      "source": [
        "#Calculate the ratio of each variant in total number of cases\n",
        "##divide other variant with total number of cases\n",
        "other_2= sum_other/sum_new_cases\n",
        "print(f\"Other:{other_2:.4f}\")\n",
        "\n",
        "##divide beta variant with total number of cases\n",
        "beta_2 =sum_beta/sum_new_cases\n",
        "print(f\"Beta:{beta_2:.4f}\")\n",
        "\n",
        "##divide delta variant with total number of cases\n",
        "delta_2= sum_delta/sum_new_cases\n",
        "print(f\"Delta:{delta_2:.4f}\")\n",
        "\n",
        "##divide omicron variant with total number of cases\n",
        "omicron_2= sum_omicron/sum_new_cases\n",
        "print(f\"Omicron:{omicron_2:.4f}\")"
      ],
      "metadata": {
        "id": "KRlWQ67b2qxM"
      },
      "execution_count": null,
      "outputs": []
    },
    {
      "cell_type": "code",
      "source": [
        "# Pie chart of prominent variants\n",
        "variant= [other_2, beta_2, delta_2, omicron_2]\n",
        "variant_labels = ['Other','Beta', 'Delta', 'Omicron']\n",
        "\n",
        "# Create a pie chart\n",
        "plt.figure(figsize=(8, 6))\n",
        "colors=['darkcyan','mediumturquoise','steelblue','aqua']\n",
        "plt.pie(variant, labels=variant_labels, autopct='%1.1f%%', startangle=140, colors=colors)\n",
        "plt.title('Distribution of COVID-19 Variants')\n",
        "plt.axis('equal')  # Equal aspect ratio ensures that pie is drawn as a circle.\n",
        "\n",
        "# Show the pie chart\n",
        "plt.show()"
      ],
      "metadata": {
        "id": "9SjGcedf26NL"
      },
      "execution_count": null,
      "outputs": []
    },
    {
      "cell_type": "code",
      "source": [
        "# description of the data in seven_days_mean_variant\n",
        "seven_days_mean_variant.describe()"
      ],
      "metadata": {
        "id": "SHFzZp313CKO"
      },
      "execution_count": null,
      "outputs": []
    },
    {
      "cell_type": "code",
      "source": [
        "#Regression model of new death and icu covid [overall]\n",
        "p=sns.regplot(seven_days_mean_variant, x='icu_covid', y='deaths_new', ci=None, line_kws = {\"color\": \"blue\"})\n",
        "#calculate slope and intercept of regression equation\n",
        "slope, intercept, r, p, sterr = scipy.stats.linregress(x=p.get_lines()[0].get_xdata(),\n",
        "                                                       y=p.get_lines()[0].get_ydata())\n",
        "#display slope and intercept of regression equation\n",
        "print(f\"intercept:{intercept:.3f}, slope:{slope:.3f}\")\n",
        "\n",
        "#add regression equation to plot (#2, #95 represents the coordinate to display the equation )\n",
        "plt.text(2, 150, 'y = ' + str(round(intercept,3)) + ' + ' + str(round(slope,3)) + 'x')\n",
        "\n",
        "\n",
        "# Add title\n",
        "plt.title('New_deaths against ICU_Covid')\n",
        "plt.show()"
      ],
      "metadata": {
        "id": "7Nvkln0E3LiW"
      },
      "execution_count": null,
      "outputs": []
    },
    {
      "cell_type": "code",
      "source": [
        "#R-squared of regression model (icu covid against new death)\n",
        "#initiate linear regression model\n",
        "model = LinearRegression()\n",
        "\n",
        "#define predictor and response variables\n",
        "X, y = seven_days_mean_variant[['icu_covid']], seven_days_mean_variant.deaths_new\n",
        "\n",
        "#fit regression model\n",
        "model.fit(X, y)\n",
        "\n",
        "#calculate R-squared of regression model (icu covid agaisnt new death)\n",
        "r_squared = model.score(X, y)\n",
        "print(\"R-squared= {:.3f}\".format(r_squared))\n",
        "## R-squared= 0.712; moderately strong"
      ],
      "metadata": {
        "id": "eNFYejnQ3Tfv"
      },
      "execution_count": null,
      "outputs": []
    },
    {
      "cell_type": "code",
      "source": [
        "#Regression model of new death and new cases[overall]\n",
        "p=sns.regplot(seven_days_mean_variant, x='cases_new', y='deaths_new', ci=None, line_kws = {\"color\": \"blue\"})\n",
        "#calculate slope and intercept of regression equation\n",
        "slope, intercept, r, p, sterr = scipy.stats.linregress(x=p.get_lines()[0].get_xdata(),\n",
        "                                                       y=p.get_lines()[0].get_ydata())\n",
        "#display slope and intercept of regression equation\n",
        "print(f\"intercept:{intercept:.3f}, slope:{slope:.3f}\")\n",
        "\n",
        "#add regression equation to plot (#2, #95 represents the coordinate to display the equation )\n",
        "plt.text(2, 150, 'y = ' + str(round(intercept,3)) + ' + ' + str(round(slope,3)) + 'x')\n",
        "\n",
        "\n",
        "# Add title\n",
        "plt.title('New_deaths against New_cases')\n",
        "plt.show()\n"
      ],
      "metadata": {
        "id": "gbH344ha5dXN"
      },
      "execution_count": null,
      "outputs": []
    },
    {
      "cell_type": "code",
      "source": [
        "#R-squared of regression model (new death against new cases)\n",
        "#initiate linear regression model\n",
        "model = LinearRegression()\n",
        "\n",
        "#define predictor and response variables\n",
        "X, y = seven_days_mean_variant[['cases_new']], seven_days_mean_variant.deaths_new\n",
        "\n",
        "#fit regression model\n",
        "model.fit(X, y)\n",
        "\n",
        "#calculate R-squared of regression model\n",
        "r_squared = model.score(X, y)\n",
        "print(\"R-squared= {:.3f}\".format(r_squared))\n",
        "\n",
        "## R-squared= 0.5; fair"
      ],
      "metadata": {
        "id": "dmpB2aCD5kmC"
      },
      "execution_count": null,
      "outputs": []
    },
    {
      "cell_type": "code",
      "source": [
        "## Create a scatter plot between new cases and icu covid (other variant)\n",
        "#time period = 2020-01-25 - 2021-06-05\n",
        "other_icu= seven_days_mean_variant.loc[seven_days_mean_variant['date'].between('2020-01-25','2021-06-05')]\n",
        "p=sns.regplot(other_icu, x='cases_new', y='icu_covid', ci=None, line_kws = {\"color\": \"blue\"})\n",
        "\n",
        "# Calculate the slope and intercept of the regression equation along with confidence intervals\n",
        "slope, intercept, r, p, sterr = scipy.stats.linregress(x=other_icu['cases_new'], y=other_icu['icu_covid'])\n",
        "\n",
        "# Get the standard error of the slope\n",
        "stderr_slope = sterr\n",
        "\n",
        "#display slope and intercept of regression equation\n",
        "print(f\"intercept:{intercept:.3f}, slope:{slope:.3f}\")\n",
        "\n",
        "# Calculate the confidence interval for the slope (95% confidence interval)\n",
        "#z-value at 95% confidence interval= 1.96\n",
        "z_value=1.96\n",
        "confidence_interval = z_value* stderr_slope\n",
        "\n",
        "\n",
        "# Display the slope, intercept, and confidence interval of the regression equation\n",
        "print(f\"95% Confidence Interval for Slope: [{slope - confidence_interval:.3f}, {slope + confidence_interval:.3f}]\")\n",
        "\n",
        "\n",
        "#add regression equation to plot (#2, #95 represents the coordinate to display the equation )\n",
        "plt.text(80, 600, 'y = ' + str(round(intercept,3)) + ' + ' + str(round(slope,3)) + 'x')\n",
        "\n",
        "\n",
        "# Add title\n",
        "plt.title('ICU_covid against New_cases (Other Variant)')\n",
        "plt.show()\n"
      ],
      "metadata": {
        "id": "FZbOSrIh5oNm"
      },
      "execution_count": null,
      "outputs": []
    },
    {
      "cell_type": "code",
      "source": [
        "#R-squared of regression model(other; icu covid against new cases)\n",
        "#initiate linear regression model\n",
        "model = LinearRegression()\n",
        "\n",
        "#define predictor and response variables\n",
        "X, y = other_icu[['cases_new']], other_icu.icu_covid\n",
        "\n",
        "#fit regression model\n",
        "model.fit(X, y)\n",
        "\n",
        "#calculate R-squared of regression model\n",
        "r_squared = model.score(X, y)\n",
        "print(\"R-squared= {:.3f}\".format(r_squared))\n",
        "## R-squared= 0.941; strong"
      ],
      "metadata": {
        "id": "DVRr6iJz5qqV"
      },
      "execution_count": null,
      "outputs": []
    },
    {
      "cell_type": "code",
      "source": [
        "## Create a scatter plot between new cases and new death (other variant)\n",
        "#time period = 2020-01-25 - 2021-06-05\n",
        "other_death= seven_days_mean_variant.loc[seven_days_mean_variant['date'].between('2020-01-25','2021-06-05')]\n",
        "p=sns.regplot(other_death, x='cases_new', y='deaths_new', ci=None, line_kws = {\"color\": \"blue\"})\n",
        "\n",
        "# Calculate the slope and intercept of the regression equation along with confidence intervals\n",
        "slope, intercept, r, p, sterr = scipy.stats.linregress(x=other_death['cases_new'], y=other_death['deaths_new'])\n",
        "\n",
        "# Get the standard error of the slope\n",
        "stderr_slope = sterr\n",
        "\n",
        "#display slope and intercept of regression equation\n",
        "print(f\"intercept:{intercept:.3f}, slope:{slope:.3f}\")\n",
        "\n",
        "# Calculate the confidence interval for the slope (95% confidence interval)\n",
        "#z-value at 95% confidence interval= 1.96\n",
        "z_value=1.96\n",
        "confidence_interval = z_value* stderr_slope\n",
        "\n",
        "# Display the slope, intercept, and confidence interval of the regression equation\n",
        "print(f\"95% Confidence Interval for Slope: [{slope - confidence_interval:.3f}, {slope + confidence_interval:.3f}]\")\n",
        "\n",
        "#add regression equation to plot (#2, #95 represents the coordinate to display the equation )\n",
        "plt.text(80, 30, 'y = ' + str(round(intercept,3)) + ' + ' + str(round(slope,3)) + 'x')\n",
        "\n",
        "\n",
        "# Add title\n",
        "plt.title('New_deaths against New_cases (Other Variant)')\n",
        "plt.show()"
      ],
      "metadata": {
        "id": "rtzag_JB9RAt"
      },
      "execution_count": null,
      "outputs": []
    },
    {
      "cell_type": "code",
      "source": [
        "#R-squared of regression model (other variant; new death against new cases)\n",
        "#initiate linear regression model\n",
        "model = LinearRegression()\n",
        "\n",
        "#define predictor and response variables\n",
        "X, y = other_death[['cases_new']], other_death.deaths_new\n",
        "\n",
        "#fit regression model\n",
        "model.fit(X, y)\n",
        "\n",
        "#calculate R-squared of regression model\n",
        "r_squared = model.score(X, y)\n",
        "print(\"R-squared= {:.3f}\".format(r_squared))\n",
        "## R-squared= 0.762; moderately strong"
      ],
      "metadata": {
        "id": "L2m5asmR9Z7K"
      },
      "execution_count": null,
      "outputs": []
    },
    {
      "cell_type": "code",
      "source": [
        "## Create a scatter plot between new cases and icu covid (beta variant)\n",
        "#time period = 2021-06-12 - 2021-07-03\n",
        "beta_icu= seven_days_mean_variant.loc[seven_days_mean_variant['date'].between('2021-06-12','2021-07-03')]\n",
        "p=sns.regplot(beta_icu, x='cases_new', y='icu_covid', ci=None, line_kws = {\"color\": \"blue\"})\n",
        "\n",
        "# Calculate the slope and intercept of the regression equation along with confidence intervals\n",
        "slope, intercept, r, p, sterr = scipy.stats.linregress(x=beta_icu['cases_new'], y=beta_icu['icu_covid'])\n",
        "\n",
        "# Get the standard error of the slope\n",
        "stderr_slope = sterr\n",
        "\n",
        "#display slope and intercept of regression equation\n",
        "print(f\"intercept:{intercept:.3f}, slope:{slope:.3f}\")\n",
        "\n",
        "# Calculate the confidence interval for the slope (95% confidence interval)\n",
        "#z-value at 95% confidence interval= 1.96\n",
        "z_value=1.96\n",
        "confidence_interval = z_value* stderr_slope\n",
        "\n",
        "# Display the slope, intercept, and confidence interval of the regression equation\n",
        "print(f\"95% Confidence Interval for Slope: [{slope - confidence_interval:.3f}, {slope + confidence_interval:.3f}]\")\n",
        "\n",
        "#add regression equation to plot (#2, #95 represents the coordinate to display the equation )\n",
        "plt.text(5500, 1180, 'y = ' + str(round(intercept,3)) + ' + ' + str(round(slope,3)) + 'x')\n",
        "\n",
        "\n",
        "# Add title\n",
        "plt.title('ICU_covid against New_cases (Beta Variant)')\n",
        "plt.show()"
      ],
      "metadata": {
        "id": "Ou4PB15c9oTm"
      },
      "execution_count": null,
      "outputs": []
    },
    {
      "cell_type": "code",
      "source": [
        "#R-squared of regression model (beta; icu against new cases)\n",
        "#initiate linear regression model\n",
        "model = LinearRegression()\n",
        "\n",
        "#define predictor and response variables\n",
        "X, y = beta_icu[['cases_new']], beta_icu.icu_covid\n",
        "#fit regression model\n",
        "model.fit(X, y)\n",
        "\n",
        "#calculate R-squared of regression model\n",
        "r_squared = model.score(X, y)\n",
        "print(\"R-squared= {:.3f}\".format(r_squared))\n",
        "\n",
        "## R-squared= 0.983; strong\n"
      ],
      "metadata": {
        "id": "fNNKFdkY9whQ"
      },
      "execution_count": null,
      "outputs": []
    },
    {
      "cell_type": "code",
      "source": [
        "## Create a scatter plot between new cases and new death (beta variant)\n",
        "#time period = 2021-06-12 - 2021-07-03\n",
        "beta_death= seven_days_mean_variant.loc[seven_days_mean_variant['date'].between('2021-06-12','2021-07-03')]\n",
        "p=sns.regplot(beta_death, x='cases_new', y='deaths_new', ci=None, line_kws = {\"color\": \"blue\"})\n",
        "\n",
        "# Calculate the slope and intercept of the regression equation along with confidence intervals\n",
        "slope, intercept, r, p, sterr = scipy.stats.linregress(x=beta_death['cases_new'], y=beta_death['deaths_new'])\n",
        "\n",
        "# Get the standard error of the slope\n",
        "stderr_slope = sterr\n",
        "\n",
        "#display slope and intercept of regression equation\n",
        "print(f\"intercept:{intercept:.3f}, slope:{slope:.3f}\")\n",
        "\n",
        "# Calculate the confidence interval for the slope (95% confidence interval)\n",
        "#z-value at 95% confidence interval= 1.96\n",
        "z_value=1.96\n",
        "confidence_interval = z_value* stderr_slope\n",
        "\n",
        "# Display the slope, intercept, and confidence interval of the regression equation\n",
        "print(f\"95% Confidence Interval for Slope: [{slope - confidence_interval:.3f}, {slope + confidence_interval:.3f}]\")\n",
        "\n",
        "\n",
        "#add regression equation to plot (#2, #95 represents the coordinate to display the equation )\n",
        "plt.text(5500, 80, 'y = ' + str(round(intercept,3)) + ' + ' + str(round(slope,3)) + 'x')\n",
        "\n",
        "\n",
        "# Add title\n",
        "plt.title('New_deaths against New_cases (Beta Variant)')\n",
        "plt.show()"
      ],
      "metadata": {
        "id": "OboC6N5o98uW"
      },
      "execution_count": null,
      "outputs": []
    },
    {
      "cell_type": "code",
      "source": [
        "#R-squared of regression model (beta; new death against new cases)\n",
        "#initiate linear regression model\n",
        "model = LinearRegression()\n",
        "\n",
        "#define predictor and response variables\n",
        "X, y = beta_death[['cases_new']], beta_death.deaths_new\n",
        "\n",
        "#fit regression model\n",
        "model.fit(X, y)\n",
        "\n",
        "#calculate R-squared of regression model\n",
        "r_squared = model.score(X, y)\n",
        "print(\"R-squared= {:.3f}\".format(r_squared))\n",
        "\n",
        "## R-squared= 0.854; strong"
      ],
      "metadata": {
        "id": "4Z9nH3Yt-DOm"
      },
      "execution_count": null,
      "outputs": []
    },
    {
      "cell_type": "code",
      "source": [
        "## Create a scatter plot between new cases and new death (delta variant)\n",
        "#time period = 2021-07-10 - 2021-12-18\n",
        "delta_death= seven_days_mean_variant.loc[seven_days_mean_variant['date'].between('2021-07-10','2021-12-18')]\n",
        "p=sns.regplot(delta_death, x='cases_new', y='deaths_new', ci=None, line_kws = {\"color\": \"blue\"})\n",
        "\n",
        "# Calculate the slope and intercept of the regression equation along with confidence intervals\n",
        "slope, intercept, r, p, sterr = scipy.stats.linregress(x=delta_death['cases_new'], y=delta_death['deaths_new'])\n",
        "\n",
        "# Get the standard error of the slope\n",
        "stderr_slope = sterr\n",
        "\n",
        "#display slope and intercept of regression equation\n",
        "print(f\"intercept:{intercept:.3f}, slope:{slope:.3f}\")\n",
        "\n",
        "# Calculate the confidence interval for the slope (95% confidence interval)\n",
        "#z-value at 95% confidence interval= 1.96\n",
        "z_value=1.96\n",
        "confidence_interval = z_value* stderr_slope\n",
        "\n",
        "# Display the slope, intercept, and confidence interval of the regression equation\n",
        "print(f\"95% Confidence Interval for Slope: [{slope - confidence_interval:.3f}, {slope + confidence_interval:.3f}]\")\n",
        "\n",
        "#add regression equation to plot (#2, #95 represents the coordinate to display the equation )\n",
        "plt.text(3000, 150, 'y = ' + str(round(intercept,3)) + ' + ' + str(round(slope,3)) + 'x')\n",
        "\n",
        "\n",
        "# Add title\n",
        "plt.title('New_deaths against New_cases (Delta Variant)')\n",
        "plt.show()"
      ],
      "metadata": {
        "id": "HHduyQhn7igP"
      },
      "execution_count": null,
      "outputs": []
    },
    {
      "cell_type": "code",
      "source": [
        "#R-squared of regression model (delta; new death against new cases)\n",
        "#initiate linear regression model\n",
        "model = LinearRegression()\n",
        "\n",
        "#define predictor and response variables\n",
        "X, y = delta_death[['cases_new']], delta_death.deaths_new\n",
        "\n",
        "#fit regression model\n",
        "model.fit(X, y)\n",
        "\n",
        "#calculate R-squared of regression model\n",
        "r_squared = model.score(X, y)\n",
        "print(\"R-squared= {:.3f}\".format(r_squared))\n",
        "\n",
        "## R-squared= 0.791; strong"
      ],
      "metadata": {
        "id": "gaG7a3Xg7pH-"
      },
      "execution_count": null,
      "outputs": []
    },
    {
      "cell_type": "code",
      "source": [
        "## Create a scatter plot between new cases and icu (omicron variant)\n",
        "#time period = 2021-12-25 - 2023-06-24\n",
        "omicron_icu= seven_days_mean_variant.loc[seven_days_mean_variant['date'].between('2021-12-25','2023-06-24')]\n",
        "p=sns.regplot(omicron_icu, x='cases_new', y='icu_covid', ci=None, line_kws = {\"color\": \"blue\"})\n",
        "\n",
        "# Calculate the slope and intercept of the regression equation along with confidence intervals\n",
        "slope, intercept, r, p, sterr = scipy.stats.linregress(x=omicron_icu['cases_new'], y=omicron_icu['icu_covid'])\n",
        "\n",
        "# Get the standard error of the slope\n",
        "stderr_slope = sterr\n",
        "\n",
        "#display slope and intercept of regression equation\n",
        "print(f\"intercept:{intercept:.3f}, slope:{slope:.3f}\")\n",
        "\n",
        "# Calculate the confidence interval for the slope (95% confidence interval)\n",
        "#z-value at 95% confidence interval= 1.96\n",
        "z_value=1.96\n",
        "confidence_interval = z_value* stderr_slope\n",
        "\n",
        "# Display the slope, intercept, and confidence interval of the regression equation\n",
        "print(f\"95% Confidence Interval for Slope: [{slope - confidence_interval:.3f}, {slope + confidence_interval:.3f}]\")\n",
        "\n",
        "#add regression equation to plot (#2, #95 represents the coordinate to display the equation )\n",
        "plt.text(5000, 350, 'y = ' + str(round(intercept,3)) + ' + ' + str(round(slope,3)) + 'x')\n",
        "\n",
        "\n",
        "# Add title\n",
        "plt.title('ICU_Covid against New_cases (Omicron Variant)')"
      ],
      "metadata": {
        "id": "LH0lXVa67z8b"
      },
      "execution_count": null,
      "outputs": []
    },
    {
      "cell_type": "code",
      "source": [
        "#R-squared of regression model (omicron; icu against new cases)\n",
        "#initiate linear regression model\n",
        "model = LinearRegression()\n",
        "\n",
        "#define predictor and response variables\n",
        "X, y = omicron_icu[['cases_new']], omicron_icu.icu_covid\n",
        "#fit regression model\n",
        "model.fit(X, y)\n",
        "\n",
        "#calculate R-squared of regression model\n",
        "r_squared = model.score(X, y)\n",
        "print(\"R-squared= {:.3f}\".format(r_squared))\n",
        "\n",
        "## R-squared= 0.732; strong"
      ],
      "metadata": {
        "id": "OUg4wnmA75qR"
      },
      "execution_count": null,
      "outputs": []
    },
    {
      "cell_type": "code",
      "source": [
        "## Create a scatter plot between new cases and new death (omicron variant)\n",
        "#time period = 2021-12-25 - 2023-06-24\n",
        "omicron_death= seven_days_mean_variant.loc[seven_days_mean_variant['date'].between('2021-12-25','2023-06-24')]\n",
        "p=sns.regplot(omicron_death, x='cases_new', y='deaths_new', ci=None, line_kws = {\"color\": \"blue\"})\n",
        "\n",
        "# Calculate the slope and intercept of the regression equation along with confidence intervals\n",
        "slope, intercept, r, p, sterr = scipy.stats.linregress(x=omicron_death['cases_new'], y=omicron_death['deaths_new'])\n",
        "\n",
        "# Get the standard error of the slope\n",
        "stderr_slope = sterr\n",
        "\n",
        "#display slope and intercept of regression equation\n",
        "print(f\"intercept:{intercept:.3f}, slope:{slope:.3f}\")\n",
        "\n",
        "# Calculate the confidence interval for the slope (95% confidence interval)\n",
        "#z-value at 95% confidence interval= 1.96\n",
        "z_value=1.96\n",
        "confidence_interval = z_value* stderr_slope\n",
        "\n",
        "# Display the slope, intercept, and confidence interval of the regression equation\n",
        "print(f\"95% Confidence Interval for Slope: [{slope - confidence_interval:.3f}, {slope + confidence_interval:.3f}]\")\n",
        "#add regression equation to plot (#2, #95 represents the coordinate to display the equation )\n",
        "plt.text(60, 70, 'y = ' + str(round(intercept,3)) + ' + ' + str(round(slope,3)) + 'x')\n",
        "\n",
        "\n",
        "# Add title\n",
        "plt.title('New_deaths against New_cases (Omicron Variant)')"
      ],
      "metadata": {
        "id": "qB1dYO2s7-9U"
      },
      "execution_count": null,
      "outputs": []
    },
    {
      "cell_type": "code",
      "source": [
        "#R-squared of regression model (omicron; new death against new cases)\n",
        "#initiate linear regression model\n",
        "model = LinearRegression()\n",
        "\n",
        "#define predictor and response variables\n",
        "X, y = omicron_death[['cases_new']], omicron_death.deaths_new\n",
        "\n",
        "#fit regression model\n",
        "model.fit(X, y)\n",
        "\n",
        "#calculate R-squared of regression model\n",
        "r_squared = model.score(X, y)\n",
        "print(\"R-squared= {:.3f}\".format(r_squared))\n",
        "\n",
        "## R-squared= 0.830; strong"
      ],
      "metadata": {
        "id": "sByhu_4_8Ewd"
      },
      "execution_count": null,
      "outputs": []
    }
  ]
}